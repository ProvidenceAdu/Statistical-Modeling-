{
 "cells": [
  {
   "cell_type": "markdown",
   "id": "79144ec6",
   "metadata": {},
   "source": [
    "### Import Libraries"
   ]
  },
  {
   "cell_type": "code",
   "execution_count": 1,
   "id": "cbdc3c5e",
   "metadata": {},
   "outputs": [],
   "source": [
    "import pandas as pd\n",
    "import numpy as np\n",
    "import os\n",
    "import glob as gb\n",
    "import seaborn as sns\n",
    "import matplotlib.pyplot as plt\n",
    "from scipy import stats\n",
    "from statsmodels.graphics.tsaplots import plot_pacf\n",
    "from functools import reduce\n",
    "\n",
    "\n",
    "from linearmodels import PanelOLS\n",
    "from linearmodels import PooledOLS\n",
    "from linearmodels import RandomEffects\n",
    "import statsmodels.api as sm\n",
    "from statsmodels.stats.diagnostic import het_white, het_breuschpagan\n",
    "from statsmodels.stats.stattools import durbin_watson\n",
    "import numpy.linalg as la\n",
    "from scipy import stats\n",
    "import numpy as np"
   ]
  },
  {
   "cell_type": "markdown",
   "id": "c0eadfeb",
   "metadata": {},
   "source": [
    "### Set Path"
   ]
  },
  {
   "cell_type": "code",
   "execution_count": 2,
   "id": "39ce974e",
   "metadata": {},
   "outputs": [],
   "source": [
    "path = 'C:\\\\Users\\\\padu\\Dropbox (UNC Charlotte)\\\\Providence Adu’s files\\\\Data\\\\US Census Bureau NPA'\n",
    "os.chdir(path)"
   ]
  },
  {
   "cell_type": "markdown",
   "id": "3c609b88",
   "metadata": {},
   "source": [
    "### Read Data"
   ]
  },
  {
   "cell_type": "code",
   "execution_count": 3,
   "id": "dd8c296a",
   "metadata": {},
   "outputs": [
    {
     "name": "stdout",
     "output_type": "stream",
     "text": [
      "Index(['Unnamed: 0', 'NPA', 'MSAge2010', 'MSAge2011', 'MSAge2012', 'MSAge2013',\n",
      "       'MSAge2014', 'MSAge2015', 'MSAge2016', 'MSAge2017',\n",
      "       ...\n",
      "       'PercentWhite2019', 'PercentHispanic2019',\n",
      "       'PercentAdultsWithAtLeastBachelors2019', 'PercentOwnerOccupied2019',\n",
      "       'PercentAsian2020', 'PercentBlack2020', 'PercentWhite2020',\n",
      "       'PercentHispanic2020', 'PercentAdultsWithAtLeastBachelors2020',\n",
      "       'PercentOwnerOccupied2020'],\n",
      "      dtype='object', length=185)\n"
     ]
    }
   ],
   "source": [
    "Housing =  pd.read_csv(\"AllVariables.csv\")\n",
    "print(Housing.columns)"
   ]
  },
  {
   "cell_type": "markdown",
   "id": "d14be5a9",
   "metadata": {},
   "source": [
    "### Account of Percent Without Bachelors for 2010 and 2011"
   ]
  },
  {
   "cell_type": "code",
   "execution_count": 4,
   "id": "71fa48f3",
   "metadata": {},
   "outputs": [],
   "source": [
    "Housing['PercentAdultsWithAtLeastBachelors2010'] = Housing['PercentAdultsWithAtLeastBachelors2012']\n",
    "Housing['PercentAdultsWithAtLeastBachelors2011'] = Housing['PercentAdultsWithAtLeastBachelors2012']"
   ]
  },
  {
   "cell_type": "markdown",
   "id": "ed5089d4",
   "metadata": {},
   "source": [
    "### Percent New Residential Renovation"
   ]
  },
  {
   "cell_type": "code",
   "execution_count": 5,
   "id": "5ec130fd",
   "metadata": {
    "code_folding": []
   },
   "outputs": [],
   "source": [
    "for row in Housing:\n",
    "    if row.startswith('NewResReno'):\n",
    "        Housing['PercNewResReno'+str(row[-4:])] = (Housing['NewResReno'+str(row[-4:])]/Housing['HousingUnits'+str(row[-4:])])*100\n"
   ]
  },
  {
   "cell_type": "code",
   "execution_count": 6,
   "id": "97679f74",
   "metadata": {},
   "outputs": [],
   "source": [
    "# print(list(Housing.columns))"
   ]
  },
  {
   "cell_type": "markdown",
   "id": "f8285f7f",
   "metadata": {},
   "source": [
    "### Percent New Residential Demolition"
   ]
  },
  {
   "cell_type": "code",
   "execution_count": 7,
   "id": "e4d69d9d",
   "metadata": {},
   "outputs": [],
   "source": [
    "for row in Housing:\n",
    "    if row.startswith('NewResDems'):\n",
    "        Housing['PercNewResDems'+str(row[-4:])] = (Housing['NewResDems'+str(row[-4:])]/Housing['HousingUnits'+str(row[-4:])])*100\n"
   ]
  },
  {
   "cell_type": "markdown",
   "id": "c64d1098",
   "metadata": {},
   "source": [
    "### Percent New Residential Construction"
   ]
  },
  {
   "cell_type": "code",
   "execution_count": 8,
   "id": "9fea8969",
   "metadata": {},
   "outputs": [],
   "source": [
    "for row in Housing:\n",
    "    if row.startswith('NewResCons'):\n",
    "        Housing['PercNewResCons'+str(row[-4:])] = (Housing['NewResCons'+str(row[-4:])]/Housing['HousingUnits'+str(row[-4:])])*100\n"
   ]
  },
  {
   "cell_type": "markdown",
   "id": "b0a1d873",
   "metadata": {},
   "source": [
    "### Percent Housing Violations"
   ]
  },
  {
   "cell_type": "code",
   "execution_count": 9,
   "id": "3273b454",
   "metadata": {},
   "outputs": [],
   "source": [
    "for row in Housing:\n",
    "    if row.startswith('HousingViolation'):\n",
    "        Housing['ShareHousingViolation'+str(row[-4:])] = (Housing['HousingViolations'+str(row[-4:])]/\n",
    "                                                          Housing['HousingUnits'+str(row[-4:])])*100"
   ]
  },
  {
   "cell_type": "markdown",
   "id": "712b61a9",
   "metadata": {},
   "source": [
    "### Percent All Violations"
   ]
  },
  {
   "cell_type": "code",
   "execution_count": 10,
   "id": "5499f165",
   "metadata": {},
   "outputs": [],
   "source": [
    "for row in Housing:\n",
    "    if row.startswith('ALLViolation'):\n",
    "        Housing['ShareALLViolation'+str(row[-4:])] = (Housing['ALLViolations'+str(row[-4:])]/\n",
    "                                                          Housing['HousingUnits'+str(row[-4:])])*100"
   ]
  },
  {
   "cell_type": "markdown",
   "id": "484c88f6",
   "metadata": {},
   "source": [
    "### Percent Minority"
   ]
  },
  {
   "cell_type": "code",
   "execution_count": 11,
   "id": "6bffc85f",
   "metadata": {},
   "outputs": [],
   "source": [
    "for row in Housing:\n",
    "    if row.startswith('PercentHispanic') or row.startswith('PercentAsian') or row.startswith('PercentBlack'):\n",
    "        Housing['PercentMinority'+str(row[-4:])] = (Housing['PercentAsian'+str(row[-4:])]+\n",
    "                                                    Housing['PercentHispanic'+str(row[-4:])]+\n",
    "                                                   Housing['PercentBlack'+str(row[-4:])])"
   ]
  },
  {
   "cell_type": "markdown",
   "id": "08f7db12",
   "metadata": {},
   "source": [
    "### Housing Investment"
   ]
  },
  {
   "cell_type": "code",
   "execution_count": 12,
   "id": "efdba7f9",
   "metadata": {},
   "outputs": [],
   "source": [
    "for row in Housing:\n",
    "    if row.startswith('NewResCon') or row.startswith('NewResReno'):\n",
    "        Housing['HousingInvestment'+str(row[-4:])] = (Housing['NewResCons'+str(row[-4:])]+\n",
    "                                              Housing['NewResReno'+str(row[-4:])])"
   ]
  },
  {
   "cell_type": "markdown",
   "id": "7cee0a5a",
   "metadata": {},
   "source": [
    "### Share of Housing Investment"
   ]
  },
  {
   "cell_type": "code",
   "execution_count": 13,
   "id": "6a487e05",
   "metadata": {},
   "outputs": [],
   "source": [
    "for row in Housing:\n",
    "    if row.startswith('PercNewResCon') or row.startswith('PercNewResReno'):\n",
    "        Housing['ShareHousingInvestment'+str(row[-4:])] = (Housing['PercNewResCons'+str(row[-4:])]+\n",
    "                                              Housing['PercNewResReno'+str(row[-4:])])"
   ]
  },
  {
   "cell_type": "code",
   "execution_count": 15,
   "id": "11409ac0",
   "metadata": {},
   "outputs": [],
   "source": [
    "Housing.replace([np.inf, -np.inf], np.nan, inplace=True)"
   ]
  },
  {
   "cell_type": "code",
   "execution_count": 20,
   "id": "41903223",
   "metadata": {
    "scrolled": true
   },
   "outputs": [
    {
     "name": "stdout",
     "output_type": "stream",
     "text": [
      "['Unnamed: 0', 'NPA', 'MSAge2010', 'MSAge2011', 'MSAge2012', 'MSAge2013', 'MSAge2014', 'MSAge2015', 'MSAge2016', 'MSAge2017', 'MSAge2018', 'MSAge2019', 'MSAge2020', 'MHIncome2010', 'MHIncome2011', 'MHIncome2012', 'MHIncome2013', 'MHIncome2014', 'MHIncome2015', 'MHIncome2016', 'MHIncome2017', 'MHIncome2018', 'MHIncome2019', 'MHIncome2020', 'MGRent2010', 'MGRent2011', 'MGRent2012', 'MGRent2013', 'MGRent2014', 'MGRent2015', 'MGRent2016', 'MGRent2017', 'MGRent2018', 'MGRent2019', 'MGRent2020', 'HousingUnits2021', 'NewResReno2022', 'NewResReno2021', 'NewResReno2020', 'NewResReno2019', 'NewResReno2018', 'NewResReno2017', 'NewResReno2016', 'NewResReno2015', 'NewResReno2014', 'NewResReno2013', 'NewResReno2012', 'NewResReno2011', 'NewResReno2010', 'NewResDems2022', 'NewResDems2021', 'NewResDems2020', 'NewResDems2019', 'NewResDems2018', 'NewResDems2017', 'NewResDems2016', 'NewResDems2015', 'NewResDems2014', 'NewResDems2013', 'NewResDems2012', 'NewResDems2011', 'NewResDems2010', 'NewResCons2022', 'NewResCons2021', 'NewResCons2020', 'NewResCons2019', 'NewResCons2018', 'NewResCons2017', 'NewResCons2016', 'NewResCons2015', 'NewResCons2014', 'NewResCons2013', 'NewResCons2012', 'NewResCons2011', 'NewResCons2010', 'ALLViolations2022', 'ALLViolations2021', 'ALLViolations2020', 'ALLViolations2019', 'ALLViolations2018', 'ALLViolations2017', 'ALLViolations2016', 'ALLViolations2015', 'ALLViolations2014', 'ALLViolations2013', 'ALLViolations2012', 'ALLViolations2011', 'ALLViolations2010', 'HousingViolations2022', 'HousingViolations2021', 'HousingViolations2020', 'HousingViolations2019', 'HousingViolations2018', 'HousingViolations2017', 'HousingViolations2016', 'HousingViolations2015', 'HousingViolations2014', 'HousingViolations2013', 'HousingViolations2012', 'HousingViolations2011', 'HousingViolations2010', 'HousingUnits2022', 'HousingUnits2020', 'HousingUnits2019', 'HousingUnits2018', 'HousingUnits2017', 'HousingUnits2016', 'HousingUnits2015', 'HousingUnits2014', 'HousingUnits2013', 'HousingUnits2012', 'HousingUnits2011', 'HousingUnits2010', 'Unnamed: 0.1', 'Population_Density_2020', 'Population_Density_2018', 'Population_Density_2017', 'Population_Density_2016', 'Population_Density_2015', 'Population_Density_2013', 'Population_Density_2010', 'PercentAsian2010', 'PercentBlack2010', 'PercentWhite2010', 'PercentHispanic2010', 'PercentOwnerOccupied2010', 'PercentAsian2011', 'PercentBlack2011', 'PercentWhite2011', 'PercentHispanic2011', 'PercentOwnerOccupied2011', 'PercentAsian2012', 'PercentBlack2012', 'PercentWhite2012', 'PercentHispanic2012', 'PercentAdultsWithAtLeastBachelors2012', 'PercentOwnerOccupied2012', 'PercentAsian2013', 'PercentBlack2013', 'PercentWhite2013', 'PercentHispanic2013', 'PercentAdultsWithAtLeastBachelors2013', 'PercentOwnerOccupied2013', 'PercentAsian2014', 'PercentBlack2014', 'PercentWhite2014', 'PercentHispanic2014', 'PercentAdultsWithAtLeastBachelors2014', 'PercentOwnerOccupied2014', 'PercentAsian2015', 'PercentBlack2015', 'PercentWhite2015', 'PercentHispanic2015', 'PercentAdultsWithAtLeastBachelors2015', 'PercentOwnerOccupied2015', 'PercentAsian2016', 'PercentBlack2016', 'PercentWhite2016', 'PercentHispanic2016', 'PercentAdultsWithAtLeastBachelors2016', 'PercentOwnerOccupied2016', 'PercentAsian2017', 'PercentBlack2017', 'PercentWhite2017', 'PercentHispanic2017', 'PercentAdultsWithAtLeastBachelors2017', 'PercentOwnerOccupied2017', 'PercentAsian2018', 'PercentBlack2018', 'PercentWhite2018', 'PercentHispanic2018', 'PercentAdultsWithAtLeastBachelors2018', 'PercentOwnerOccupied2018', 'PercentAsian2019', 'PercentBlack2019', 'PercentWhite2019', 'PercentHispanic2019', 'PercentAdultsWithAtLeastBachelors2019', 'PercentOwnerOccupied2019', 'PercentAsian2020', 'PercentBlack2020', 'PercentWhite2020', 'PercentHispanic2020', 'PercentAdultsWithAtLeastBachelors2020', 'PercentOwnerOccupied2020', 'PercentAdultsWithAtLeastBachelors2010', 'PercentAdultsWithAtLeastBachelors2011', 'PercNewResReno2022', 'PercNewResReno2021', 'PercNewResReno2020', 'PercNewResReno2019', 'PercNewResReno2018', 'PercNewResReno2017', 'PercNewResReno2016', 'PercNewResReno2015', 'PercNewResReno2014', 'PercNewResReno2013', 'PercNewResReno2012', 'PercNewResReno2011', 'PercNewResReno2010', 'PercNewResDems2022', 'PercNewResDems2021', 'PercNewResDems2020', 'PercNewResDems2019', 'PercNewResDems2018', 'PercNewResDems2017', 'PercNewResDems2016', 'PercNewResDems2015', 'PercNewResDems2014', 'PercNewResDems2013', 'PercNewResDems2012', 'PercNewResDems2011', 'PercNewResDems2010', 'PercNewResCons2022', 'PercNewResCons2021', 'PercNewResCons2020', 'PercNewResCons2019', 'PercNewResCons2018', 'PercNewResCons2017', 'PercNewResCons2016', 'PercNewResCons2015', 'PercNewResCons2014', 'PercNewResCons2013', 'PercNewResCons2012', 'PercNewResCons2011', 'PercNewResCons2010', 'ShareHousingViolation2022', 'ShareHousingViolation2021', 'ShareHousingViolation2020', 'ShareHousingViolation2019', 'ShareHousingViolation2018', 'ShareHousingViolation2017', 'ShareHousingViolation2016', 'ShareHousingViolation2015', 'ShareHousingViolation2014', 'ShareHousingViolation2013', 'ShareHousingViolation2012', 'ShareHousingViolation2011', 'ShareHousingViolation2010', 'ShareALLViolation2022', 'ShareALLViolation2021', 'ShareALLViolation2020', 'ShareALLViolation2019', 'ShareALLViolation2018', 'ShareALLViolation2017', 'ShareALLViolation2016', 'ShareALLViolation2015', 'ShareALLViolation2014', 'ShareALLViolation2013', 'ShareALLViolation2012', 'ShareALLViolation2011', 'ShareALLViolation2010', 'PercentMinority2010', 'PercentMinority2011', 'PercentMinority2012', 'PercentMinority2013', 'PercentMinority2014', 'PercentMinority2015', 'PercentMinority2016', 'PercentMinority2017', 'PercentMinority2018', 'PercentMinority2019', 'PercentMinority2020', 'HousingInvestment2022', 'HousingInvestment2021', 'HousingInvestment2020', 'HousingInvestment2019', 'HousingInvestment2018', 'HousingInvestment2017', 'HousingInvestment2016', 'HousingInvestment2015', 'HousingInvestment2014', 'HousingInvestment2013', 'HousingInvestment2012', 'HousingInvestment2011', 'HousingInvestment2010', 'ShareHousingInvestment2022', 'ShareHousingInvestment2021', 'ShareHousingInvestment2020', 'ShareHousingInvestment2019', 'ShareHousingInvestment2018', 'ShareHousingInvestment2017', 'ShareHousingInvestment2016', 'ShareHousingInvestment2015', 'ShareHousingInvestment2014', 'ShareHousingInvestment2013', 'ShareHousingInvestment2012', 'ShareHousingInvestment2011', 'ShareHousingInvestment2010']\n"
     ]
    }
   ],
   "source": [
    "LatentHousing = pd.DataFrame(Housing)"
   ]
  },
  {
   "cell_type": "markdown",
   "id": "c69a289a",
   "metadata": {},
   "source": [
    "### Filter columns for Melting\n",
    "- exclude 2021 and 2022"
   ]
  },
  {
   "cell_type": "code",
   "execution_count": 25,
   "id": "ad9272ec",
   "metadata": {},
   "outputs": [],
   "source": [
    "ALLViolations = [row for row in LatentHousing if row.startswith('ALLViolations') and not row.endswith('2022') and not row.endswith('2021')]\n",
    "ShareALLViolations = [row for row in LatentHousing if row.startswith('ShareALLViolation')and not row.endswith('2022') and not row.endswith('2021')]\n",
    "HousingViolatins = [row for row in LatentHousing if row.startswith('HousingViolations') and not row.endswith('2022') and not row.endswith('2021')]\n",
    "ShareHousingViolatins = [row for row in LatentHousing if row.startswith('ShareHousingViolation') and not row.endswith('2022') and not row.endswith('2021')]\n",
    "\n",
    "PerNewResReno =  [row for row in LatentHousing if row.startswith('PercNewResReno') and not row.endswith('2022') and not row.endswith('2021')]\n",
    "PerNewResCon  =  [row for row in LatentHousing if row.startswith('PercNewResCon') and not row.endswith('2022') and not row.endswith('2021')]\n",
    "PerNewResDem  =  [row for row in LatentHousing if row.startswith('PercNewResDem') and not row.endswith('2022') and not row.endswith('2021')]\n",
    "\n",
    "MSAge = [row for row in LatentHousing if row.startswith('MSAge') and not row.endswith('2022') and not row.endswith('2021')]\n",
    "MHIncome = [row for row in LatentHousing if row.startswith('MHIncome') and not row.endswith('2022') and not row.endswith('2021')]\n",
    "MGRent = [row for row in LatentHousing if row.startswith('MGRent') and not row.endswith('2022') and not row.endswith('2021')]\n",
    "\n",
    "PercentBlack = [row for row in LatentHousing if row.startswith('PercentBlack') and not row.endswith('2022') and not row.endswith('2021')]\n",
    "PercentWhite = [row for row in LatentHousing if row.startswith('PercentWhite') and not row.endswith('2022') and not row.endswith('2021')]\n",
    "PercentAsian = [row for row in LatentHousing if row.startswith('PercentAsian') and not row.endswith('2022') and not row.endswith('2021')]\n",
    "PercentHispanic = [row for row in LatentHousing if row.startswith('PercentHispanic') and not row.endswith('2022') and not row.endswith('2021')]\n",
    "\n",
    "PercentOwnerOccupied = [row for row in LatentHousing if row.startswith('PercentOwnerOccupied') and not row.endswith('2022') and not row.endswith('2021')]\n",
    "PercentAdultsWithAtLeastBachelors = [row for row in LatentHousing if row.startswith('PercentAdultsWithAtLeastBachelors') and not row.endswith('2022') and not row.endswith('2021')]\n",
    "\n",
    "\n",
    "PercentMinority = [row for row in LatentHousing if row.startswith('PercentMinority') and not row.endswith('2022') and not row.endswith('2021')]\n",
    "ShareHousingInvestment = [row for row in LatentHousing if row.startswith('ShareHousingInvestment') and not row.endswith('2022') and not row.endswith('2021')]\n",
    "\n",
    "HousingInvestment = [row for row in LatentHousing if row.startswith('HousingInvestment') and not row.endswith('2022') and not row.endswith('2021')]"
   ]
  },
  {
   "cell_type": "markdown",
   "id": "12b03d6d",
   "metadata": {},
   "source": [
    "### Melt data for each individual category"
   ]
  },
  {
   "cell_type": "code",
   "execution_count": 26,
   "id": "592f0912",
   "metadata": {},
   "outputs": [],
   "source": [
    "AllviolationsPooled = pd.melt(LatentHousing, id_vars= 'NPA', value_vars= ALLViolations, value_name= 'AllViolations')\n",
    "ShareALLViolationsPooled = pd.melt(LatentHousing, id_vars= 'NPA', value_vars= ShareALLViolations, value_name= 'ShareALLViolations')\n",
    "HousingViolatinsPooled = pd.melt(LatentHousing, id_vars= 'NPA', value_vars= HousingViolatins, value_name= 'HousingViolations')\n",
    "ShareHousingViolatinsPooled = pd.melt(LatentHousing, id_vars= 'NPA', value_vars= ShareHousingViolatins, value_name= 'ShareHousingViolations')\n",
    "\n",
    "PerNewResRenoPooled = pd.melt(LatentHousing, id_vars= 'NPA', value_vars= PerNewResReno, value_name= 'PerNewResReno')\n",
    "PerNewResConPooled = pd.melt(LatentHousing, id_vars= 'NPA', value_vars= PerNewResCon, value_name= 'PerNewResCon')\n",
    "PerNewResDemPooled = pd.melt(LatentHousing, id_vars= 'NPA', value_vars= PerNewResDem, value_name= 'PerNewResDem')\n",
    "\n",
    "MSAgePooled = pd.melt(LatentHousing, id_vars= 'NPA', value_vars= MSAge, value_name= 'MedianAge')\n",
    "MHIncomePooled = pd.melt(LatentHousing, id_vars= 'NPA', value_vars= MHIncome, value_name= 'MedianIncome')\n",
    "MGRentPooled = pd.melt(LatentHousing, id_vars= 'NPA', value_vars= MGRent, value_name= 'MedianGrossRent')\n",
    "\n",
    "PercentBlackPooled = pd.melt(LatentHousing, id_vars= 'NPA', value_vars= PercentBlack, value_name= 'PercentBlack')\n",
    "PercentWhitePooled = pd.melt(LatentHousing, id_vars= 'NPA', value_vars= PercentWhite, value_name= 'PercentWhite')\n",
    "PercentAsianPooled = pd.melt(LatentHousing, id_vars= 'NPA', value_vars= PercentAsian, value_name= 'PercentAsian')\n",
    "PercentHispanicPooled = pd.melt(LatentHousing, id_vars= 'NPA', value_vars= PercentHispanic, value_name= 'PercentHispanic')\n",
    "PercentMinorityPooled = pd.melt(LatentHousing, id_vars= 'NPA', value_vars= PercentHispanic, value_name= 'PercentMinority')\n",
    "\n",
    "\n",
    "PercentOwnerOccupiedPooled = pd.melt(LatentHousing, id_vars= 'NPA', value_vars= PercentOwnerOccupied, value_name= 'PercentOwnerOccupied')\n",
    "PercentAdultsWithAtLeastBachelorsPooled = pd.melt(LatentHousing, id_vars= 'NPA', value_vars= PercentAdultsWithAtLeastBachelors, value_name= 'PercentAdultsWithAtLeastBachelors')\n",
    "\n",
    "ShareHousingInvestmentPooled = pd.melt(LatentHousing, id_vars= 'NPA', value_vars= ShareHousingInvestment, value_name= 'ShareHousingInvestment')\n",
    "HousingInvestmentPooled = pd.melt(LatentHousing, id_vars= 'NPA', value_vars= HousingInvestment, value_name= 'HousingInvestment')\n"
   ]
  },
  {
   "cell_type": "markdown",
   "id": "c11195e7",
   "metadata": {},
   "source": [
    "### Make sure axis are the same for join"
   ]
  },
  {
   "cell_type": "code",
   "execution_count": 27,
   "id": "d10e2d92",
   "metadata": {
    "collapsed": true
   },
   "outputs": [
    {
     "data": {
      "text/plain": [
       "((5082, 3),\n",
       " (5082, 3),\n",
       " (5082, 3),\n",
       " (5082, 3),\n",
       " (5082, 3),\n",
       " (5082, 3),\n",
       " (5082, 3),\n",
       " (5082, 3),\n",
       " (5082, 3),\n",
       " (5082, 3),\n",
       " (5082, 3),\n",
       " (5082, 3),\n",
       " (5082, 3),\n",
       " (5082, 3),\n",
       " (5082, 3),\n",
       " (5082, 3),\n",
       " (5082, 3),\n",
       " (5082, 3))"
      ]
     },
     "execution_count": 27,
     "metadata": {},
     "output_type": "execute_result"
    }
   ],
   "source": [
    "AllviolationsPooled.shape,ShareALLViolationsPooled.shape,HousingViolatinsPooled.shape,ShareHousingViolatinsPooled.shape,PerNewResRenoPooled.shape,PerNewResConPooled.shape,PerNewResDemPooled.shape,MSAgePooled.shape,MHIncomePooled.shape,MGRentPooled.shape,PercentBlackPooled.shape,PercentWhitePooled.shape,PercentAsianPooled.shape,PercentHispanicPooled.shape,PercentOwnerOccupiedPooled.shape,PercentAdultsWithAtLeastBachelorsPooled.shape,ShareHousingInvestmentPooled.shape,PercentMinorityPooled.shape"
   ]
  },
  {
   "cell_type": "markdown",
   "id": "f4201556",
   "metadata": {},
   "source": [
    "### Extract year variable from columns"
   ]
  },
  {
   "cell_type": "code",
   "execution_count": 28,
   "id": "aa17c224",
   "metadata": {
    "scrolled": true
   },
   "outputs": [],
   "source": [
    "AllviolationsPooled['Year'] = [int(row[-4:]) for row in AllviolationsPooled['variable']]\n",
    "ShareALLViolationsPooled['Year'] = [int(row[-4:]) for row in ShareALLViolationsPooled['variable']]\n",
    "ShareHousingViolatinsPooled['Year'] = [int(row[-4:]) for row in ShareHousingViolatinsPooled['variable']]\n",
    "HousingViolatinsPooled['Year'] = [int(row[-4:]) for row in HousingViolatinsPooled['variable']]\n",
    "\n",
    "PercentBlackPooled['Year']  = [int(row[-4:]) for row in PercentBlackPooled['variable']]\n",
    "PercentWhitePooled['Year'] =  [int(row[-4:]) for row in PercentWhitePooled['variable']]\n",
    "PercentAsianPooled['Year'] =  [int(row[-4:]) for row in PercentAsianPooled['variable']]\n",
    "PercentHispanicPooled['Year'] =  [int(row[-4:]) for row in PercentHispanicPooled['variable']]\n",
    "\n",
    "PerNewResRenoPooled['Year'] = [int(row[-4:]) for row in PerNewResRenoPooled['variable']]\n",
    "PerNewResConPooled['Year'] = [int(row[-4:]) for row in PerNewResConPooled['variable']]\n",
    "PerNewResDemPooled['Year'] = [int(row[-4:]) for row in PerNewResDemPooled['variable']]\n",
    "\n",
    "\n",
    "MSAgePooled['Year'] = [int(row[-4:]) for row in MSAgePooled['variable']]\n",
    "MHIncomePooled['Year'] = [int(row[-4:]) for row in MHIncomePooled['variable']]\n",
    "MGRentPooled['Year'] = [int(row[-4:]) for row in MGRentPooled['variable']]\n",
    "\n",
    "\n",
    "PercentOwnerOccupiedPooled['Year'] = [int(row[-4:]) for row in PercentOwnerOccupiedPooled['variable']]\n",
    "PercentAdultsWithAtLeastBachelorsPooled['Year'] = [int(row[-4:]) for row in PercentAdultsWithAtLeastBachelorsPooled['variable']]\n",
    "\n",
    "\n",
    "PercentMinorityPooled['Year'] = [int(row[-4:]) for row in PercentMinorityPooled['variable']]\n",
    "ShareHousingInvestmentPooled['Year'] = [int(row[-4:]) for row in ShareHousingInvestmentPooled['variable']]\n",
    "\n",
    "HousingInvestmentPooled['Year'] = [int(row[-4:]) for row in HousingInvestmentPooled['variable']]\n"
   ]
  },
  {
   "cell_type": "markdown",
   "id": "a85724bd",
   "metadata": {},
   "source": [
    "### Create a list of DataFrames for Join in reduce"
   ]
  },
  {
   "cell_type": "code",
   "execution_count": 29,
   "id": "7a4c5835",
   "metadata": {},
   "outputs": [],
   "source": [
    "PanelDataFrame = [AllviolationsPooled,ShareALLViolationsPooled,HousingViolatinsPooled,MSAgePooled,MHIncomePooled,\n",
    "                  MGRentPooled,PerNewResRenoPooled,PerNewResDemPooled,PercentBlackPooled,PercentWhitePooled,PercentAsianPooled,\n",
    "                 PercentHispanicPooled, PerNewResConPooled,ShareHousingViolatinsPooled,PercentOwnerOccupiedPooled,\n",
    "                 PercentAdultsWithAtLeastBachelorsPooled,PercentMinorityPooled,ShareHousingInvestmentPooled,\n",
    "                 HousingInvestmentPooled]\n"
   ]
  },
  {
   "cell_type": "markdown",
   "id": "0a45c90b",
   "metadata": {},
   "source": [
    "### Join all dataframes on NPA and Year"
   ]
  },
  {
   "cell_type": "code",
   "execution_count": 30,
   "id": "46b9dfd4",
   "metadata": {},
   "outputs": [
    {
     "data": {
      "text/plain": [
       "Index(['NPA', 'variable_x', 'AllViolations', 'Year', 'variable_y',\n",
       "       'ShareALLViolations', 'variable_x', 'HousingViolations', 'variable_y',\n",
       "       'MedianAge', 'variable_x', 'MedianIncome', 'variable_y',\n",
       "       'MedianGrossRent', 'variable_x', 'PerNewResReno', 'variable_y',\n",
       "       'PerNewResDem', 'variable_x', 'PercentBlack', 'variable_y',\n",
       "       'PercentWhite', 'variable_x', 'PercentAsian', 'variable_y',\n",
       "       'PercentHispanic', 'variable_x', 'PerNewResCon', 'variable_y',\n",
       "       'ShareHousingViolations', 'variable_x', 'PercentOwnerOccupied',\n",
       "       'variable_y', 'PercentAdultsWithAtLeastBachelors', 'variable_x',\n",
       "       'PercentMinority', 'variable_y', 'ShareHousingInvestment', 'variable',\n",
       "       'HousingInvestment'],\n",
       "      dtype='object')"
      ]
     },
     "execution_count": 30,
     "metadata": {},
     "output_type": "execute_result"
    }
   ],
   "source": [
    "PooledData = reduce(lambda right,left: pd.merge(right, left, on = ['NPA', 'Year'], how = 'left'), PanelDataFrame)\n",
    "PooledData.columns"
   ]
  },
  {
   "cell_type": "markdown",
   "id": "6ea17714",
   "metadata": {},
   "source": [
    "#### Delete unneeded variable column"
   ]
  },
  {
   "cell_type": "code",
   "execution_count": 31,
   "id": "f4b00084",
   "metadata": {
    "collapsed": true
   },
   "outputs": [
    {
     "data": {
      "text/html": [
       "<div>\n",
       "<style scoped>\n",
       "    .dataframe tbody tr th:only-of-type {\n",
       "        vertical-align: middle;\n",
       "    }\n",
       "\n",
       "    .dataframe tbody tr th {\n",
       "        vertical-align: top;\n",
       "    }\n",
       "\n",
       "    .dataframe thead th {\n",
       "        text-align: right;\n",
       "    }\n",
       "</style>\n",
       "<table border=\"1\" class=\"dataframe\">\n",
       "  <thead>\n",
       "    <tr style=\"text-align: right;\">\n",
       "      <th></th>\n",
       "      <th>NPA</th>\n",
       "      <th>AllViolations</th>\n",
       "      <th>Year</th>\n",
       "      <th>ShareALLViolations</th>\n",
       "      <th>HousingViolations</th>\n",
       "      <th>MedianAge</th>\n",
       "      <th>MedianIncome</th>\n",
       "      <th>MedianGrossRent</th>\n",
       "      <th>PerNewResReno</th>\n",
       "      <th>PerNewResDem</th>\n",
       "      <th>...</th>\n",
       "      <th>PercentWhite</th>\n",
       "      <th>PercentAsian</th>\n",
       "      <th>PercentHispanic</th>\n",
       "      <th>PerNewResCon</th>\n",
       "      <th>ShareHousingViolations</th>\n",
       "      <th>PercentOwnerOccupied</th>\n",
       "      <th>PercentAdultsWithAtLeastBachelors</th>\n",
       "      <th>PercentMinority</th>\n",
       "      <th>ShareHousingInvestment</th>\n",
       "      <th>HousingInvestment</th>\n",
       "    </tr>\n",
       "  </thead>\n",
       "  <tbody>\n",
       "    <tr>\n",
       "      <th>0</th>\n",
       "      <td>2</td>\n",
       "      <td>187</td>\n",
       "      <td>2020</td>\n",
       "      <td>25.757576</td>\n",
       "      <td>7</td>\n",
       "      <td>30.0</td>\n",
       "      <td>54557.0</td>\n",
       "      <td>998.0</td>\n",
       "      <td>0.000000</td>\n",
       "      <td>0.000000</td>\n",
       "      <td>...</td>\n",
       "      <td>57.703428</td>\n",
       "      <td>0.495663</td>\n",
       "      <td>8.756712</td>\n",
       "      <td>0.000000</td>\n",
       "      <td>0.964187</td>\n",
       "      <td>34.513274</td>\n",
       "      <td>44.730539</td>\n",
       "      <td>8.756712</td>\n",
       "      <td>0.000000</td>\n",
       "      <td>0</td>\n",
       "    </tr>\n",
       "    <tr>\n",
       "      <th>1</th>\n",
       "      <td>3</td>\n",
       "      <td>309</td>\n",
       "      <td>2020</td>\n",
       "      <td>8.612040</td>\n",
       "      <td>4</td>\n",
       "      <td>34.0</td>\n",
       "      <td>98056.0</td>\n",
       "      <td>1458.0</td>\n",
       "      <td>2.257525</td>\n",
       "      <td>0.501672</td>\n",
       "      <td>...</td>\n",
       "      <td>88.362551</td>\n",
       "      <td>4.587840</td>\n",
       "      <td>1.827676</td>\n",
       "      <td>0.334448</td>\n",
       "      <td>0.111483</td>\n",
       "      <td>57.585335</td>\n",
       "      <td>88.409704</td>\n",
       "      <td>1.827676</td>\n",
       "      <td>2.591973</td>\n",
       "      <td>93</td>\n",
       "    </tr>\n",
       "    <tr>\n",
       "      <th>2</th>\n",
       "      <td>4</td>\n",
       "      <td>27</td>\n",
       "      <td>2020</td>\n",
       "      <td>6.352941</td>\n",
       "      <td>0</td>\n",
       "      <td>45.1</td>\n",
       "      <td>250001.0</td>\n",
       "      <td>NaN</td>\n",
       "      <td>0.000000</td>\n",
       "      <td>0.000000</td>\n",
       "      <td>...</td>\n",
       "      <td>87.411348</td>\n",
       "      <td>4.166667</td>\n",
       "      <td>8.421986</td>\n",
       "      <td>0.000000</td>\n",
       "      <td>0.000000</td>\n",
       "      <td>96.912114</td>\n",
       "      <td>89.750000</td>\n",
       "      <td>8.421986</td>\n",
       "      <td>0.000000</td>\n",
       "      <td>0</td>\n",
       "    </tr>\n",
       "    <tr>\n",
       "      <th>3</th>\n",
       "      <td>5</td>\n",
       "      <td>156</td>\n",
       "      <td>2020</td>\n",
       "      <td>76.470588</td>\n",
       "      <td>6</td>\n",
       "      <td>32.4</td>\n",
       "      <td>27292.0</td>\n",
       "      <td>738.0</td>\n",
       "      <td>1.470588</td>\n",
       "      <td>0.000000</td>\n",
       "      <td>...</td>\n",
       "      <td>5.081301</td>\n",
       "      <td>0.000000</td>\n",
       "      <td>0.000000</td>\n",
       "      <td>1.470588</td>\n",
       "      <td>2.941176</td>\n",
       "      <td>15.740741</td>\n",
       "      <td>4.941860</td>\n",
       "      <td>0.000000</td>\n",
       "      <td>2.941176</td>\n",
       "      <td>6</td>\n",
       "    </tr>\n",
       "    <tr>\n",
       "      <th>4</th>\n",
       "      <td>6</td>\n",
       "      <td>448</td>\n",
       "      <td>2020</td>\n",
       "      <td>66.468843</td>\n",
       "      <td>23</td>\n",
       "      <td>38.0</td>\n",
       "      <td>38056.0</td>\n",
       "      <td>1004.0</td>\n",
       "      <td>0.000000</td>\n",
       "      <td>0.000000</td>\n",
       "      <td>...</td>\n",
       "      <td>19.011628</td>\n",
       "      <td>0.058140</td>\n",
       "      <td>6.511628</td>\n",
       "      <td>0.000000</td>\n",
       "      <td>3.412463</td>\n",
       "      <td>31.268012</td>\n",
       "      <td>13.625304</td>\n",
       "      <td>6.511628</td>\n",
       "      <td>0.000000</td>\n",
       "      <td>0</td>\n",
       "    </tr>\n",
       "    <tr>\n",
       "      <th>...</th>\n",
       "      <td>...</td>\n",
       "      <td>...</td>\n",
       "      <td>...</td>\n",
       "      <td>...</td>\n",
       "      <td>...</td>\n",
       "      <td>...</td>\n",
       "      <td>...</td>\n",
       "      <td>...</td>\n",
       "      <td>...</td>\n",
       "      <td>...</td>\n",
       "      <td>...</td>\n",
       "      <td>...</td>\n",
       "      <td>...</td>\n",
       "      <td>...</td>\n",
       "      <td>...</td>\n",
       "      <td>...</td>\n",
       "      <td>...</td>\n",
       "      <td>...</td>\n",
       "      <td>...</td>\n",
       "      <td>...</td>\n",
       "      <td>...</td>\n",
       "    </tr>\n",
       "    <tr>\n",
       "      <th>5077</th>\n",
       "      <td>471</td>\n",
       "      <td>0</td>\n",
       "      <td>2010</td>\n",
       "      <td>0.000000</td>\n",
       "      <td>0</td>\n",
       "      <td>37.4</td>\n",
       "      <td>62770.0</td>\n",
       "      <td>935.0</td>\n",
       "      <td>0.000000</td>\n",
       "      <td>0.000000</td>\n",
       "      <td>...</td>\n",
       "      <td>92.813370</td>\n",
       "      <td>3.231198</td>\n",
       "      <td>0.000000</td>\n",
       "      <td>0.000000</td>\n",
       "      <td>0.000000</td>\n",
       "      <td>46.934461</td>\n",
       "      <td>54.072682</td>\n",
       "      <td>0.000000</td>\n",
       "      <td>0.000000</td>\n",
       "      <td>0</td>\n",
       "    </tr>\n",
       "    <tr>\n",
       "      <th>5078</th>\n",
       "      <td>472</td>\n",
       "      <td>0</td>\n",
       "      <td>2010</td>\n",
       "      <td>0.000000</td>\n",
       "      <td>0</td>\n",
       "      <td>45.6</td>\n",
       "      <td>101330.0</td>\n",
       "      <td>1607.0</td>\n",
       "      <td>0.000000</td>\n",
       "      <td>0.000000</td>\n",
       "      <td>...</td>\n",
       "      <td>89.743590</td>\n",
       "      <td>0.827130</td>\n",
       "      <td>9.429280</td>\n",
       "      <td>0.000000</td>\n",
       "      <td>0.000000</td>\n",
       "      <td>90.557940</td>\n",
       "      <td>48.387097</td>\n",
       "      <td>9.429280</td>\n",
       "      <td>0.000000</td>\n",
       "      <td>0</td>\n",
       "    </tr>\n",
       "    <tr>\n",
       "      <th>5079</th>\n",
       "      <td>473</td>\n",
       "      <td>0</td>\n",
       "      <td>2010</td>\n",
       "      <td>0.000000</td>\n",
       "      <td>0</td>\n",
       "      <td>32.8</td>\n",
       "      <td>44692.0</td>\n",
       "      <td>627.0</td>\n",
       "      <td>0.000000</td>\n",
       "      <td>0.000000</td>\n",
       "      <td>...</td>\n",
       "      <td>53.319283</td>\n",
       "      <td>0.000000</td>\n",
       "      <td>3.635406</td>\n",
       "      <td>0.000000</td>\n",
       "      <td>0.000000</td>\n",
       "      <td>56.753555</td>\n",
       "      <td>46.423358</td>\n",
       "      <td>3.635406</td>\n",
       "      <td>0.000000</td>\n",
       "      <td>0</td>\n",
       "    </tr>\n",
       "    <tr>\n",
       "      <th>5080</th>\n",
       "      <td>474</td>\n",
       "      <td>0</td>\n",
       "      <td>2010</td>\n",
       "      <td>0.000000</td>\n",
       "      <td>0</td>\n",
       "      <td>43.3</td>\n",
       "      <td>73750.0</td>\n",
       "      <td>1135.0</td>\n",
       "      <td>0.000000</td>\n",
       "      <td>0.000000</td>\n",
       "      <td>...</td>\n",
       "      <td>92.319749</td>\n",
       "      <td>1.933124</td>\n",
       "      <td>3.030303</td>\n",
       "      <td>0.000000</td>\n",
       "      <td>0.000000</td>\n",
       "      <td>74.741676</td>\n",
       "      <td>49.409449</td>\n",
       "      <td>3.030303</td>\n",
       "      <td>0.000000</td>\n",
       "      <td>0</td>\n",
       "    </tr>\n",
       "    <tr>\n",
       "      <th>5081</th>\n",
       "      <td>475</td>\n",
       "      <td>0</td>\n",
       "      <td>2010</td>\n",
       "      <td>0.000000</td>\n",
       "      <td>0</td>\n",
       "      <td>43.3</td>\n",
       "      <td>193167.0</td>\n",
       "      <td>516.0</td>\n",
       "      <td>0.000000</td>\n",
       "      <td>0.000000</td>\n",
       "      <td>...</td>\n",
       "      <td>100.000000</td>\n",
       "      <td>0.000000</td>\n",
       "      <td>0.000000</td>\n",
       "      <td>0.000000</td>\n",
       "      <td>0.000000</td>\n",
       "      <td>91.044776</td>\n",
       "      <td>72.664700</td>\n",
       "      <td>0.000000</td>\n",
       "      <td>0.000000</td>\n",
       "      <td>0</td>\n",
       "    </tr>\n",
       "  </tbody>\n",
       "</table>\n",
       "<p>5082 rows × 21 columns</p>\n",
       "</div>"
      ],
      "text/plain": [
       "      NPA  AllViolations  Year  ShareALLViolations  HousingViolations  \\\n",
       "0       2            187  2020           25.757576                  7   \n",
       "1       3            309  2020            8.612040                  4   \n",
       "2       4             27  2020            6.352941                  0   \n",
       "3       5            156  2020           76.470588                  6   \n",
       "4       6            448  2020           66.468843                 23   \n",
       "...   ...            ...   ...                 ...                ...   \n",
       "5077  471              0  2010            0.000000                  0   \n",
       "5078  472              0  2010            0.000000                  0   \n",
       "5079  473              0  2010            0.000000                  0   \n",
       "5080  474              0  2010            0.000000                  0   \n",
       "5081  475              0  2010            0.000000                  0   \n",
       "\n",
       "      MedianAge  MedianIncome  MedianGrossRent  PerNewResReno  PerNewResDem  \\\n",
       "0          30.0       54557.0            998.0       0.000000      0.000000   \n",
       "1          34.0       98056.0           1458.0       2.257525      0.501672   \n",
       "2          45.1      250001.0              NaN       0.000000      0.000000   \n",
       "3          32.4       27292.0            738.0       1.470588      0.000000   \n",
       "4          38.0       38056.0           1004.0       0.000000      0.000000   \n",
       "...         ...           ...              ...            ...           ...   \n",
       "5077       37.4       62770.0            935.0       0.000000      0.000000   \n",
       "5078       45.6      101330.0           1607.0       0.000000      0.000000   \n",
       "5079       32.8       44692.0            627.0       0.000000      0.000000   \n",
       "5080       43.3       73750.0           1135.0       0.000000      0.000000   \n",
       "5081       43.3      193167.0            516.0       0.000000      0.000000   \n",
       "\n",
       "      ...  PercentWhite  PercentAsian  PercentHispanic  PerNewResCon  \\\n",
       "0     ...     57.703428      0.495663         8.756712      0.000000   \n",
       "1     ...     88.362551      4.587840         1.827676      0.334448   \n",
       "2     ...     87.411348      4.166667         8.421986      0.000000   \n",
       "3     ...      5.081301      0.000000         0.000000      1.470588   \n",
       "4     ...     19.011628      0.058140         6.511628      0.000000   \n",
       "...   ...           ...           ...              ...           ...   \n",
       "5077  ...     92.813370      3.231198         0.000000      0.000000   \n",
       "5078  ...     89.743590      0.827130         9.429280      0.000000   \n",
       "5079  ...     53.319283      0.000000         3.635406      0.000000   \n",
       "5080  ...     92.319749      1.933124         3.030303      0.000000   \n",
       "5081  ...    100.000000      0.000000         0.000000      0.000000   \n",
       "\n",
       "      ShareHousingViolations  PercentOwnerOccupied  \\\n",
       "0                   0.964187             34.513274   \n",
       "1                   0.111483             57.585335   \n",
       "2                   0.000000             96.912114   \n",
       "3                   2.941176             15.740741   \n",
       "4                   3.412463             31.268012   \n",
       "...                      ...                   ...   \n",
       "5077                0.000000             46.934461   \n",
       "5078                0.000000             90.557940   \n",
       "5079                0.000000             56.753555   \n",
       "5080                0.000000             74.741676   \n",
       "5081                0.000000             91.044776   \n",
       "\n",
       "      PercentAdultsWithAtLeastBachelors  PercentMinority  \\\n",
       "0                             44.730539         8.756712   \n",
       "1                             88.409704         1.827676   \n",
       "2                             89.750000         8.421986   \n",
       "3                              4.941860         0.000000   \n",
       "4                             13.625304         6.511628   \n",
       "...                                 ...              ...   \n",
       "5077                          54.072682         0.000000   \n",
       "5078                          48.387097         9.429280   \n",
       "5079                          46.423358         3.635406   \n",
       "5080                          49.409449         3.030303   \n",
       "5081                          72.664700         0.000000   \n",
       "\n",
       "      ShareHousingInvestment  HousingInvestment  \n",
       "0                   0.000000                  0  \n",
       "1                   2.591973                 93  \n",
       "2                   0.000000                  0  \n",
       "3                   2.941176                  6  \n",
       "4                   0.000000                  0  \n",
       "...                      ...                ...  \n",
       "5077                0.000000                  0  \n",
       "5078                0.000000                  0  \n",
       "5079                0.000000                  0  \n",
       "5080                0.000000                  0  \n",
       "5081                0.000000                  0  \n",
       "\n",
       "[5082 rows x 21 columns]"
      ]
     },
     "execution_count": 31,
     "metadata": {},
     "output_type": "execute_result"
    }
   ],
   "source": [
    "columns = [row for row in PooledData if row.startswith('variable')]\n",
    "PooledData = PooledData.drop(columns, axis = 1)\n",
    "PooledData"
   ]
  },
  {
   "cell_type": "markdown",
   "id": "a7dcb94d",
   "metadata": {},
   "source": [
    "### Regressions AAG"
   ]
  },
  {
   "cell_type": "code",
   "execution_count": 36,
   "id": "bdca3e5f",
   "metadata": {},
   "outputs": [
    {
     "data": {
      "text/plain": [
       "Index(['NPA', 'AllViolations', 'Year', 'ShareALLViolations',\n",
       "       'HousingViolations', 'MedianAge', 'MedianIncome', 'MedianGrossRent',\n",
       "       'PerNewResReno', 'PerNewResDem', 'PercentBlack', 'PercentWhite',\n",
       "       'PercentAsian', 'PercentHispanic', 'PerNewResCon',\n",
       "       'ShareHousingViolations', 'PercentOwnerOccupied',\n",
       "       'PercentAdultsWithAtLeastBachelors', 'PercentMinority',\n",
       "       'ShareHousingInvestment', 'HousingInvestment'],\n",
       "      dtype='object')"
      ]
     },
     "execution_count": 36,
     "metadata": {},
     "output_type": "execute_result"
    }
   ],
   "source": [
    "PooledData.columns"
   ]
  },
  {
   "cell_type": "code",
   "execution_count": 37,
   "id": "573ddc99",
   "metadata": {},
   "outputs": [],
   "source": [
    "PooledData.set_index(['NPA', 'Year'], inplace=True)"
   ]
  },
  {
   "cell_type": "code",
   "execution_count": 38,
   "id": "058e3253",
   "metadata": {},
   "outputs": [
    {
     "data": {
      "text/plain": [
       "Index(['AllViolations', 'ShareALLViolations', 'HousingViolations', 'MedianAge',\n",
       "       'MedianIncome', 'MedianGrossRent', 'PerNewResReno', 'PerNewResDem',\n",
       "       'PercentBlack', 'PercentWhite', 'PercentAsian', 'PercentHispanic',\n",
       "       'PerNewResCon', 'ShareHousingViolations', 'PercentOwnerOccupied',\n",
       "       'PercentAdultsWithAtLeastBachelors', 'PercentMinority',\n",
       "       'ShareHousingInvestment', 'HousingInvestment'],\n",
       "      dtype='object')"
      ]
     },
     "execution_count": 38,
     "metadata": {},
     "output_type": "execute_result"
    }
   ],
   "source": [
    "PooledData = PooledData.sort_values(by=['NPA','Year'])\n",
    "PooledData.columns"
   ]
  },
  {
   "cell_type": "code",
   "execution_count": 39,
   "id": "f3bd9014",
   "metadata": {},
   "outputs": [],
   "source": [
    "corrmat = PooledData.corr()\n",
    "f, ax = plt.subplots(figsize=(15, 10))\n",
    "sns.heatmap(corrmat, vmax=0.9, square=True,fmt= '.1f',annot_kws={'size': 10}, \n",
    "            annot= True, cmap=\"Spectral\")\n",
    "plt.savefig('Correlation.jpg', bbox_inches='tight', dpi=1200)\n",
    "plt.show();"
   ]
  },
  {
   "cell_type": "code",
   "execution_count": 40,
   "id": "299c0f45",
   "metadata": {},
   "outputs": [
    {
     "name": "stdout",
     "output_type": "stream",
     "text": [
      "{'lag_PercentWhite', 'lag_PercentMinority', 'lag_MedianGrossRent', 'lag_PerNewResDem', 'lag_PercentOwnerOccupied', 'lag_PercentHispanic', 'lag_PercentAsian', 'lag_PerNewResCon', 'lag_HousingInvestment', 'lag_MedianIncome', 'lag_PerNewResReno', 'lag_PercentBlack', 'lag_HousingViolations', 'lag_PercentAdultsWithAtLeastBachelors', 'lag_ShareHousingViolations'}\n"
     ]
    }
   ],
   "source": [
    "Initialcol = PooledData.columns\n",
    "\n",
    "\n",
    "Variables =  ['MedianIncome', 'MedianGrossRent','HousingInvestment','PercentMinority',\n",
    "              'HousingViolations','PerNewResReno','PerNewResDem',\n",
    "       'PercentBlack', 'PercentWhite', 'PercentAsian', 'PercentHispanic',\n",
    "       'PerNewResCon', 'ShareHousingViolations', 'PercentOwnerOccupied',\n",
    "       'PercentAdultsWithAtLeastBachelors', 'PercentMinority']\n",
    "\n",
    "for row in Variables:\n",
    "    VarLag = f'lag_{row}'\n",
    "    PooledData[VarLag] = PooledData.groupby(level = 'NPA')[row].shift(1)\n",
    "    \n",
    "new_cols = set(PooledData.columns) - set(Initialcol)\n",
    "print(new_cols)"
   ]
  },
  {
   "cell_type": "code",
   "execution_count": 41,
   "id": "470deb4b",
   "metadata": {},
   "outputs": [],
   "source": [
    "PooledData.replace([np.inf, -np.inf], np.nan, inplace=True)"
   ]
  },
  {
   "cell_type": "code",
   "execution_count": 42,
   "id": "3acd3c62",
   "metadata": {},
   "outputs": [],
   "source": [
    "PooledData = PooledData.dropna()"
   ]
  },
  {
   "cell_type": "code",
   "execution_count": 43,
   "id": "ab1e6dae",
   "metadata": {},
   "outputs": [
    {
     "data": {
      "text/plain": [
       "['lag_MedianIncome',\n",
       " 'lag_MedianGrossRent',\n",
       " 'lag_HousingInvestment',\n",
       " 'lag_PercentMinority',\n",
       " 'lag_HousingViolations',\n",
       " 'lag_PerNewResReno',\n",
       " 'lag_PerNewResDem',\n",
       " 'lag_PercentBlack',\n",
       " 'lag_PercentWhite',\n",
       " 'lag_PercentAsian',\n",
       " 'lag_PercentHispanic',\n",
       " 'lag_PerNewResCon',\n",
       " 'lag_ShareHousingViolations',\n",
       " 'lag_PercentOwnerOccupied',\n",
       " 'lag_PercentAdultsWithAtLeastBachelors']"
      ]
     },
     "execution_count": 43,
     "metadata": {},
     "output_type": "execute_result"
    }
   ],
   "source": [
    "lags = [row for row in PooledData if row.startswith('lag')]\n",
    "lags"
   ]
  },
  {
   "cell_type": "code",
   "execution_count": 44,
   "id": "ad523b6f",
   "metadata": {},
   "outputs": [],
   "source": [
    "lags= ['lag_MedianIncome',\n",
    " 'lag_PercentMinority',\n",
    " 'lag_HousingViolations',\n",
    " 'lag_MedianGrossRent',\n",
    " 'lag_PerNewResReno',\n",
    " 'lag_PerNewResDem',\n",
    " 'lag_PerNewResCon',\n",
    " 'lag_PercentOwnerOccupied']"
   ]
  },
  {
   "cell_type": "code",
   "execution_count": 45,
   "id": "b22c4ec8",
   "metadata": {
    "scrolled": true
   },
   "outputs": [],
   "source": [
    "PooledData.replace([np.nan, -np.nan], 0, inplace=True)"
   ]
  },
  {
   "cell_type": "code",
   "execution_count": 46,
   "id": "ad63ff0e",
   "metadata": {},
   "outputs": [],
   "source": [
    "Exog = sm.add_constant(PooledData[lags])"
   ]
  },
  {
   "cell_type": "markdown",
   "id": "97306071",
   "metadata": {},
   "source": [
    "### Pooled Housing Violations"
   ]
  },
  {
   "cell_type": "code",
   "execution_count": 47,
   "id": "5f12dbef",
   "metadata": {},
   "outputs": [
    {
     "name": "stdout",
     "output_type": "stream",
     "text": [
      "                          PooledOLS Estimation Summary                          \n",
      "================================================================================\n",
      "Dep. Variable:      HousingViolations   R-squared:                        0.4047\n",
      "Estimator:                  PooledOLS   R-squared (Between):              0.8539\n",
      "No. Observations:                3878   R-squared (Within):              -0.1263\n",
      "Date:                Wed, Sep 13 2023   R-squared (Overall):              0.4047\n",
      "Time:                        11:50:02   Log-likelihood                -1.472e+04\n",
      "Cov. Estimator:            Unadjusted                                           \n",
      "                                        F-statistic:                      328.77\n",
      "Entities:                         462   P-value                           0.0000\n",
      "Avg Obs:                       8.3939   Distribution:                  F(8,3869)\n",
      "Min Obs:                       0.0000                                           \n",
      "Max Obs:                      10.0000   F-statistic (robust):             328.77\n",
      "                                        P-value                           0.0000\n",
      "Time periods:                      11   Distribution:                  F(8,3869)\n",
      "Avg Obs:                       352.55                                           \n",
      "Min Obs:                       0.0000                                           \n",
      "Max Obs:                       411.00                                           \n",
      "                                                                                \n",
      "                                    Parameter Estimates                                     \n",
      "============================================================================================\n",
      "                          Parameter  Std. Err.     T-stat    P-value    Lower CI    Upper CI\n",
      "--------------------------------------------------------------------------------------------\n",
      "const                        7.2640     0.7050     10.303     0.0000      5.8818      8.6463\n",
      "lag_MedianIncome            -0.3772     0.0799    -4.7213     0.0000     -0.5338     -0.2206\n",
      "lag_PercentMinority          0.0299     0.0136     2.2075     0.0273      0.0033      0.0565\n",
      "lag_HousingViolations        0.5376     0.0127     42.477     0.0000      0.5128      0.5624\n",
      "lag_MedianGrossRent         -0.0013     0.0006    -1.9283     0.0539     -0.0025   2.095e-05\n",
      "lag_PerNewResReno           -0.0085     0.0470    -0.1802     0.8570     -0.1007      0.0837\n",
      "lag_PerNewResDem             0.0735     0.2824     0.2604     0.7945     -0.4801      0.6272\n",
      "lag_PerNewResCon            -0.0061     0.0124    -0.4899     0.6242     -0.0303      0.0182\n",
      "lag_PercentOwnerOccupied    -0.0245     0.0082    -3.0101     0.0026     -0.0405     -0.0086\n",
      "============================================================================================\n"
     ]
    }
   ],
   "source": [
    "#pooled regression for share of black applicants (black) w/ percentiles on RHS\n",
    "pmod_housing = PooledOLS(PooledData.HousingViolations, Exog)\n",
    "pblk_housing = pmod_housing.fit()\n",
    "fitv = pblk_housing.predict().fitted_values\n",
    "resid = pblk_housing.resids\n",
    "print(pblk_housing)"
   ]
  },
  {
   "cell_type": "code",
   "execution_count": 48,
   "id": "786af34e",
   "metadata": {},
   "outputs": [
    {
     "name": "stdout",
     "output_type": "stream",
     "text": [
      "                        RandomEffects Estimation Summary                        \n",
      "================================================================================\n",
      "Dep. Variable:      HousingViolations   R-squared:                        0.4047\n",
      "Estimator:              RandomEffects   R-squared (Between):              0.8539\n",
      "No. Observations:                3878   R-squared (Within):              -0.1263\n",
      "Date:                Wed, Sep 13 2023   R-squared (Overall):              0.4047\n",
      "Time:                        11:50:02   Log-likelihood                -1.472e+04\n",
      "Cov. Estimator:            Unadjusted                                           \n",
      "                                        F-statistic:                      328.77\n",
      "Entities:                         462   P-value                           0.0000\n",
      "Avg Obs:                       8.3939   Distribution:                  F(8,3869)\n",
      "Min Obs:                       0.0000                                           \n",
      "Max Obs:                      10.0000   F-statistic (robust):             328.77\n",
      "                                        P-value                           0.0000\n",
      "Time periods:                      11   Distribution:                  F(8,3869)\n",
      "Avg Obs:                       352.55                                           \n",
      "Min Obs:                       0.0000                                           \n",
      "Max Obs:                       411.00                                           \n",
      "                                                                                \n",
      "                                    Parameter Estimates                                     \n",
      "============================================================================================\n",
      "                          Parameter  Std. Err.     T-stat    P-value    Lower CI    Upper CI\n",
      "--------------------------------------------------------------------------------------------\n",
      "const                        7.2640     0.7050     10.303     0.0000      5.8818      8.6463\n",
      "lag_MedianIncome            -0.3772     0.0799    -4.7213     0.0000     -0.5338     -0.2206\n",
      "lag_PercentMinority          0.0299     0.0136     2.2075     0.0273      0.0033      0.0565\n",
      "lag_HousingViolations        0.5376     0.0127     42.477     0.0000      0.5128      0.5624\n",
      "lag_MedianGrossRent         -0.0013     0.0006    -1.9283     0.0539     -0.0025   2.095e-05\n",
      "lag_PerNewResReno           -0.0085     0.0470    -0.1802     0.8570     -0.1007      0.0837\n",
      "lag_PerNewResDem             0.0735     0.2824     0.2604     0.7945     -0.4801      0.6272\n",
      "lag_PerNewResCon            -0.0061     0.0124    -0.4899     0.6242     -0.0303      0.0182\n",
      "lag_PercentOwnerOccupied    -0.0245     0.0082    -3.0101     0.0026     -0.0405     -0.0086\n",
      "============================================================================================\n"
     ]
    }
   ],
   "source": [
    "#pooled regression for share of black applicants (black) w/ percentiles on RHS\n",
    "pmod_housing = RandomEffects(PooledData.HousingViolations, Exog)\n",
    "pblk_housing = pmod_housing.fit()\n",
    "fitv = pblk_housing.predict().fitted_values\n",
    "resid = pblk_housing.resids\n",
    "print(pblk_housing)\n"
   ]
  },
  {
   "cell_type": "code",
   "execution_count": 49,
   "id": "4d9ad4ff",
   "metadata": {},
   "outputs": [
    {
     "name": "stdout",
     "output_type": "stream",
     "text": [
      "                          PanelOLS Estimation Summary                           \n",
      "================================================================================\n",
      "Dep. Variable:      HousingViolations   R-squared:                        0.0309\n",
      "Estimator:                   PanelOLS   R-squared (Between):              0.3150\n",
      "No. Observations:                3878   R-squared (Within):               0.0309\n",
      "Date:                Wed, Sep 13 2023   R-squared (Overall):              0.1857\n",
      "Time:                        11:50:02   Log-likelihood                -1.415e+04\n",
      "Cov. Estimator:             Clustered                                           \n",
      "                                        F-statistic:                      13.662\n",
      "Entities:                         462   P-value                           0.0000\n",
      "Avg Obs:                       8.3939   Distribution:                  F(8,3426)\n",
      "Min Obs:                       0.0000                                           \n",
      "Max Obs:                      10.0000   F-statistic (robust):             6.2734\n",
      "                                        P-value                           0.0000\n",
      "Time periods:                      11   Distribution:                  F(8,3426)\n",
      "Avg Obs:                       352.55                                           \n",
      "Min Obs:                       0.0000                                           \n",
      "Max Obs:                       411.00                                           \n",
      "                                                                                \n",
      "                                    Parameter Estimates                                     \n",
      "============================================================================================\n",
      "                          Parameter  Std. Err.     T-stat    P-value    Lower CI    Upper CI\n",
      "--------------------------------------------------------------------------------------------\n",
      "const                        5.4120     1.8540     2.9191     0.0035      1.7769      9.0471\n",
      "lag_MedianIncome            -0.4287     0.1092    -3.9261     0.0001     -0.6428     -0.2146\n",
      "lag_PercentMinority          0.0158     0.0354     0.4453     0.6561     -0.0537      0.0852\n",
      "lag_HousingViolations        0.1566     0.0785     1.9946     0.0462      0.0027      0.3106\n",
      "lag_MedianGrossRent         -0.0007     0.0004    -1.7680     0.0772     -0.0016   8.069e-05\n",
      "lag_PerNewResReno           -0.0347     0.0440    -0.7882     0.4306     -0.1209      0.0516\n",
      "lag_PerNewResDem             0.0694     0.2203     0.3151     0.7527     -0.3625      0.5013\n",
      "lag_PerNewResCon             0.0014     0.0039     0.3618     0.7175     -0.0063      0.0092\n",
      "lag_PercentOwnerOccupied     0.0538     0.0272     1.9804     0.0477      0.0005      0.1071\n",
      "============================================================================================\n",
      "\n",
      "F-test for Poolability: 2.6299\n",
      "P-value: 0.0000\n",
      "Distribution: F(443,3426)\n",
      "\n",
      "Included effects: Entity\n"
     ]
    }
   ],
   "source": [
    "#pooled regression for share of black applicants (black) w/ percentiles on RHS\n",
    "pmod_housing = PanelOLS(PooledData.HousingViolations, Exog,entity_effects=True)\n",
    "pblk_housing = pmod_housing.fit(cov_type='clustered', cluster_entity=True)\n",
    "fitv = pblk_housing.predict().fitted_values\n",
    "resid = pblk_housing.resids\n",
    "print(pblk_housing)"
   ]
  }
 ],
 "metadata": {
  "kernelspec": {
   "display_name": "Python 3",
   "language": "python",
   "name": "python3"
  },
  "language_info": {
   "codemirror_mode": {
    "name": "ipython",
    "version": 3
   },
   "file_extension": ".py",
   "mimetype": "text/x-python",
   "name": "python",
   "nbconvert_exporter": "python",
   "pygments_lexer": "ipython3",
   "version": "3.7.9"
  }
 },
 "nbformat": 4,
 "nbformat_minor": 5
}
