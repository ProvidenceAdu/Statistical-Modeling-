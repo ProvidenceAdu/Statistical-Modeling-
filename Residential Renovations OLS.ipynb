{
 "cells": [
  {
   "cell_type": "markdown",
   "metadata": {},
   "source": [
    "### Import Library"
   ]
  },
  {
   "cell_type": "code",
   "execution_count": 1,
   "metadata": {},
   "outputs": [],
   "source": [
    "import pandas as pd\n",
    "import numpy as np\n",
    "import os\n",
    "from functools import reduce\n",
    "import seaborn as sns\n",
    "import matplotlib.pyplot as plt\n",
    "import math\n",
    "\n",
    "from linearmodels import PanelOLS\n",
    "from linearmodels import PooledOLS\n",
    "from linearmodels import RandomEffects\n",
    "from linearmodels.panel.results import compare\n",
    "from linearmodels.iv import IV2SLS\n",
    "\n",
    "from statsmodels.stats.outliers_influence import variance_inflation_factor\n",
    "import statsmodels.api as sm\n",
    "from statsmodels.stats.diagnostic import het_white, het_breuschpagan, acorr_breusch_godfrey\n",
    "from statsmodels.stats.stattools import durbin_watson\n",
    "\n",
    "import numpy.linalg as la\n",
    "from scipy import stats\n",
    "from scipy.stats import boxcox\n",
    "from scipy.stats import kstest\n",
    "from scipy.stats import chi2\n",
    "\n",
    "\n",
    "pd.set_option('display.max_rows',None, 'display.max_columns',None,'display.max_colwidth', None)\n",
    "pd.options.display.float_format = '{:.10f}'.format"
   ]
  },
  {
   "cell_type": "markdown",
   "metadata": {},
   "source": [
    "### Read Data"
   ]
  },
  {
   "cell_type": "code",
   "execution_count": 2,
   "metadata": {
    "scrolled": true
   },
   "outputs": [
    {
     "data": {
      "text/plain": [
       "Index(['Unnamed: 0_x', 'Unnamed: 0.1_x', 'Unnamed: 0.1.1_x',\n",
       "       'Unnamed: 0.1.1.1_x', 'Unnamed: 0.1.1.1.1_x', 'Unnamed: 0.1.1.1.1.1_x',\n",
       "       'Unnamed: 0.1.1.1.1.1.1_x', 'Unnamed: 0.1.1.1.1.1.1.1_x',\n",
       "       'Unnamed: 0.1.1.1.1.1.1.1.1_x', 'Unnamed: 0.1.1.1.1.1.1.1.1.1_x',\n",
       "       ...\n",
       "       'ResInv2011', 'ResInv2012', 'ResInv2013', 'ResInv2014', 'ResInv2015',\n",
       "       'ResInv2016', 'ResInv2017', 'ResInv2018', 'ResInv2019', 'ResInv2020'],\n",
       "      dtype='object', length=377)"
      ]
     },
     "execution_count": 2,
     "metadata": {},
     "output_type": "execute_result"
    }
   ],
   "source": [
    "ResInv = pd.read_csv('FinalVariables.csv')\n",
    "ResInv.columns"
   ]
  },
  {
   "cell_type": "code",
   "execution_count": 3,
   "metadata": {},
   "outputs": [],
   "source": [
    "Unnamed = []\n",
    "\n",
    "for row in ResInv:\n",
    "    if row.startswith('Unnamed'):\n",
    "        Unnamed.append(row)\n",
    "    \n",
    "ResInv.drop(Unnamed, axis = 1,inplace = True)"
   ]
  },
  {
   "cell_type": "markdown",
   "metadata": {},
   "source": [
    "- **Calculate Residential Renovations Per Housing Unit**"
   ]
  },
  {
   "cell_type": "code",
   "execution_count": 4,
   "metadata": {},
   "outputs": [],
   "source": [
    "#scale for housing units\n",
    "Years = [2010,2011,2012,2013,2014,2015,2016,2017,2018,2019,2020]\n",
    "\n",
    "for year in Years:\n",
    "#     print(year)\n",
    "    ResInv['ResRenoPerHousingUnits'+str(year)] = (ResInv['ResReno'+str(year)]/ResInv['HousingUnits'+str(year)])*100"
   ]
  },
  {
   "cell_type": "markdown",
   "metadata": {},
   "source": [
    "### Education Interpolation \n",
    "- **US Census Bureau doesn't have Education attainment for the years 2010 and 2011 so use 2012 figures**"
   ]
  },
  {
   "cell_type": "code",
   "execution_count": 5,
   "metadata": {},
   "outputs": [],
   "source": [
    "ResInv['PercentAdultsWithAtLeastBachelors2010'] = ResInv['PercentAdultsWithAtLeastBachelors2012']\n",
    "ResInv['PercentAdultsWithAtLeastBachelors2011'] = ResInv['PercentAdultsWithAtLeastBachelors2012']"
   ]
  },
  {
   "cell_type": "markdown",
   "metadata": {},
   "source": [
    "### Compute Renovations"
   ]
  },
  {
   "cell_type": "markdown",
   "metadata": {},
   "source": [
    "- **Compute Sum of Investments 5 year range**"
   ]
  },
  {
   "cell_type": "markdown",
   "metadata": {},
   "source": [
    "- Renovations "
   ]
  },
  {
   "cell_type": "code",
   "execution_count": 6,
   "metadata": {},
   "outputs": [],
   "source": [
    "ResInv['Reno2010_2014'] = ResInv[['ResReno2010','ResReno2011','ResReno2012','ResReno2013','ResReno2014' ]].sum(axis = 1)\n",
    "ResInv['Reno2015_2019'] = ResInv[['ResReno2015','ResReno2016','ResReno2017','ResReno2018','ResReno2019' ]].sum(axis = 1) "
   ]
  },
  {
   "cell_type": "code",
   "execution_count": 7,
   "metadata": {},
   "outputs": [],
   "source": [
    "ResInv['Reno10Years'] = ResInv[['ResReno2010','ResReno2011','ResReno2012','ResReno2013','ResReno2014',\n",
    "                                 'ResReno2015','ResReno2016','ResReno2017','ResReno2018','ResReno2019']].sum(axis = 1)"
   ]
  },
  {
   "cell_type": "markdown",
   "metadata": {},
   "source": [
    "- Difference in 5 year sums 2010 to 2014 minus 2015 to 2019"
   ]
  },
  {
   "cell_type": "code",
   "execution_count": 8,
   "metadata": {},
   "outputs": [],
   "source": [
    "ResInv['Reno5yearDiff'] =  ResInv['Reno2015_2019'] - ResInv['Reno2010_2014']"
   ]
  },
  {
   "cell_type": "markdown",
   "metadata": {},
   "source": [
    "- Renovations Per Housing Unit normalized for the 5 years"
   ]
  },
  {
   "cell_type": "code",
   "execution_count": 9,
   "metadata": {},
   "outputs": [],
   "source": [
    "ResInv['RenoHU2010_2014'] = (ResInv[['ResReno2010','ResReno2011','ResReno2012','ResReno2013','ResReno2014' ]].sum(axis = 1)/\n",
    "                            ResInv['HousingUnits2010'])\n",
    "\n",
    "ResInv['RenoHU2015_2019'] = (ResInv[['ResReno2015','ResReno2016','ResReno2017','ResReno2018','ResReno2019' ]].sum(axis = 1)/\n",
    "                            ResInv['HousingUnits2015']) "
   ]
  },
  {
   "cell_type": "markdown",
   "metadata": {},
   "source": [
    "- Difference for renovations per housing unit normalized for 5 years"
   ]
  },
  {
   "cell_type": "code",
   "execution_count": 10,
   "metadata": {},
   "outputs": [],
   "source": [
    "ResInv['RenoPerHU5yearDiff'] = ResInv['RenoHU2015_2019'] - ResInv['RenoHU2010_2014']"
   ]
  },
  {
   "cell_type": "markdown",
   "metadata": {},
   "source": [
    "- Average Change in Percent Ownership for 5 years"
   ]
  },
  {
   "cell_type": "code",
   "execution_count": 11,
   "metadata": {},
   "outputs": [],
   "source": [
    "ResInv['Ownership2010_2014'] = ResInv[['PercentOwnerOccupied2010','PercentOwnerOccupied2011',\n",
    "                                       'PercentOwnerOccupied2012','PercentOwnerOccupied2013',\n",
    "                                       'PercentOwnerOccupied2014' ]].mean(axis = 1)\n",
    "\n",
    "ResInv['Ownership2015_2019'] = ResInv[['PercentOwnerOccupied2015','PercentOwnerOccupied2016',\n",
    "                                       'PercentOwnerOccupied2017','PercentOwnerOccupied2018',\n",
    "                                       'PercentOwnerOccupied2019' ]].mean(axis = 1)"
   ]
  },
  {
   "cell_type": "code",
   "execution_count": 12,
   "metadata": {},
   "outputs": [],
   "source": [
    "ResInv['Ownership'] = ResInv['Ownership2015_2019'] - ResInv['Ownership2010_2014']"
   ]
  },
  {
   "cell_type": "code",
   "execution_count": 13,
   "metadata": {},
   "outputs": [],
   "source": [
    "ResInv['OwnershipChange'] = ResInv['PercentOwnerOccupied2019'] - ResInv['PercentOwnerOccupied2010']"
   ]
  },
  {
   "cell_type": "markdown",
   "metadata": {},
   "source": [
    "- Buildings 30 years and over"
   ]
  },
  {
   "cell_type": "code",
   "execution_count": 14,
   "metadata": {},
   "outputs": [],
   "source": [
    "ResInv['Bld30Yrs2010_2014'] = ResInv[['Percent30Years2010','Percent30Years2011',\n",
    "                                       'Percent30Years2012','Percent30Years2013',\n",
    "                                       'Percent30Years2014' ]].mean(axis = 1)\n",
    "\n",
    "ResInv['Bld30Yrs2015_2019'] = ResInv[['Percent30Years2015','Percent30Years2016',\n",
    "                                       'Percent30Years2017','Percent30Years2018',\n",
    "                                       'Percent30Years2019' ]].mean(axis = 1)"
   ]
  },
  {
   "cell_type": "code",
   "execution_count": 15,
   "metadata": {},
   "outputs": [],
   "source": [
    "ResInv['Bld30yrs'] = ResInv['Bld30Yrs2015_2019'] - ResInv['Bld30Yrs2010_2014'] "
   ]
  },
  {
   "cell_type": "code",
   "execution_count": 16,
   "metadata": {},
   "outputs": [],
   "source": [
    "ResInv['Bld30yrsChange'] = ResInv['Percent30Years2019'] - ResInv['Percent30Years2010']"
   ]
  },
  {
   "cell_type": "markdown",
   "metadata": {},
   "source": [
    "- Median Household Income"
   ]
  },
  {
   "cell_type": "code",
   "execution_count": 17,
   "metadata": {},
   "outputs": [],
   "source": [
    "ResInv['Inc2010_2014'] = ResInv[['MHIncome2010','MHIncome2011','MHIncome2012','MHIncome2013','MHIncome2014' ]].mean(axis = 1)\n",
    "\n",
    "ResInv['Inc2015_2019'] = ResInv[['MHIncome2015','MHIncome2016','MHIncome2017','MHIncome2018','MHIncome2019' ]].mean(axis = 1)"
   ]
  },
  {
   "cell_type": "code",
   "execution_count": 18,
   "metadata": {},
   "outputs": [],
   "source": [
    "ResInv['Income'] =  ResInv['Inc2015_2019'] - ResInv['Inc2010_2014'] "
   ]
  },
  {
   "cell_type": "code",
   "execution_count": 19,
   "metadata": {},
   "outputs": [],
   "source": [
    "ResInv['IncomeChange'] = ResInv['MHIncome2019'] - ResInv['MHIncome2010']"
   ]
  },
  {
   "cell_type": "markdown",
   "metadata": {},
   "source": [
    "- Race"
   ]
  },
  {
   "cell_type": "markdown",
   "metadata": {},
   "source": [
    "- White"
   ]
  },
  {
   "cell_type": "code",
   "execution_count": 20,
   "metadata": {},
   "outputs": [],
   "source": [
    "ResInv['White2010_2014'] = ResInv[['PercentWhite2010','PercentWhite2011','PercentWhite2012',\n",
    "                                   'PercentWhite2013','PercentWhite2014' ]].mean(axis = 1)\n",
    "\n",
    "ResInv['White2015_2019'] = ResInv[['PercentWhite2015','PercentWhite2016','PercentWhite2017',\n",
    "                                   'PercentWhite2018','PercentWhite2019' ]].mean(axis = 1)"
   ]
  },
  {
   "cell_type": "code",
   "execution_count": 21,
   "metadata": {},
   "outputs": [],
   "source": [
    "ResInv['White'] = ResInv['White2015_2019'] - ResInv['White2010_2014']"
   ]
  },
  {
   "cell_type": "code",
   "execution_count": 22,
   "metadata": {},
   "outputs": [],
   "source": [
    "ResInv['WhiteChange'] = ResInv['PercentWhite2019'] - ResInv['PercentWhite2010']"
   ]
  },
  {
   "cell_type": "markdown",
   "metadata": {},
   "source": [
    "- Black"
   ]
  },
  {
   "cell_type": "code",
   "execution_count": 23,
   "metadata": {},
   "outputs": [],
   "source": [
    "ResInv['Black2010_2014'] = ResInv[['PercentBlack2010','PercentBlack2011','PercentBlack2012',\n",
    "                                   'PercentBlack2013','PercentBlack2014' ]].mean(axis = 1)\n",
    "\n",
    "ResInv['Black2015_2019'] = ResInv[['PercentBlack2015','PercentBlack2016','PercentBlack2017',\n",
    "                                  'PercentBlack2018','PercentBlack2019']].mean(axis = 1)\n",
    "     "
   ]
  },
  {
   "cell_type": "code",
   "execution_count": 24,
   "metadata": {},
   "outputs": [],
   "source": [
    "ResInv['Black'] = ResInv['Black2015_2019'] -ResInv['Black2010_2014']"
   ]
  },
  {
   "cell_type": "code",
   "execution_count": 25,
   "metadata": {},
   "outputs": [],
   "source": [
    "ResInv['BlackChange'] = ResInv['PercentBlack2019'] -ResInv['PercentBlack2010']"
   ]
  },
  {
   "cell_type": "markdown",
   "metadata": {},
   "source": [
    "- Hispanic"
   ]
  },
  {
   "cell_type": "code",
   "execution_count": 26,
   "metadata": {},
   "outputs": [],
   "source": [
    "ResInv['Hispanic2010_2014'] = ResInv[['PercentHispanic2010','PercentHispanic2011','PercentHispanic2012',\n",
    "                                   'PercentHispanic2013','PercentHispanic2014' ]].mean(axis = 1)\n",
    "\n",
    "ResInv['Hispanic2015_2019'] = ResInv[['PercentHispanic2015','PercentHispanic2016','PercentHispanic2017',\n",
    "                                  'PercentHispanic2018','PercentHispanic2019']].mean(axis = 1)\n",
    "     "
   ]
  },
  {
   "cell_type": "code",
   "execution_count": 27,
   "metadata": {},
   "outputs": [],
   "source": [
    "ResInv['Hispanic'] = ResInv['Hispanic2015_2019'] - ResInv['Hispanic2010_2014']"
   ]
  },
  {
   "cell_type": "code",
   "execution_count": 28,
   "metadata": {},
   "outputs": [],
   "source": [
    "ResInv['HispanicChange'] = ResInv['PercentHispanic2019'] -ResInv['PercentHispanic2010']"
   ]
  },
  {
   "cell_type": "markdown",
   "metadata": {},
   "source": [
    " - Education Attainment"
   ]
  },
  {
   "cell_type": "code",
   "execution_count": 29,
   "metadata": {},
   "outputs": [],
   "source": [
    "ResInv['Education2010_2014'] = ResInv[['PercentAdultsWithAtLeastBachelors2010','PercentAdultsWithAtLeastBachelors2011',\n",
    "                                       'PercentAdultsWithAtLeastBachelors2012',\n",
    "                                   'PercentAdultsWithAtLeastBachelors2013',\n",
    "                                       'PercentAdultsWithAtLeastBachelors2014' ]].mean(axis = 1)\n",
    "\n",
    "ResInv['Education2015_2019'] = ResInv[['PercentAdultsWithAtLeastBachelors2015','PercentAdultsWithAtLeastBachelors2016',\n",
    "                                   'PercentAdultsWithAtLeastBachelors2017',\n",
    "                                  'PercentAdultsWithAtLeastBachelors2018',\n",
    "                                   'PercentAdultsWithAtLeastBachelors2019']].mean(axis = 1)\n",
    "     "
   ]
  },
  {
   "cell_type": "code",
   "execution_count": 30,
   "metadata": {},
   "outputs": [],
   "source": [
    "ResInv['Education'] = ResInv['Education2015_2019'] - ResInv['Education2010_2014'] "
   ]
  },
  {
   "cell_type": "code",
   "execution_count": 31,
   "metadata": {},
   "outputs": [],
   "source": [
    "ResInv['EducationChange'] = ResInv['PercentAdultsWithAtLeastBachelors2019'] - ResInv['PercentAdultsWithAtLeastBachelors2010'] "
   ]
  },
  {
   "cell_type": "markdown",
   "metadata": {},
   "source": [
    "- Housing Units"
   ]
  },
  {
   "cell_type": "code",
   "execution_count": 32,
   "metadata": {},
   "outputs": [],
   "source": [
    "ResInv['HousingUnits2010_2014'] = ResInv[['HousingUnits2010','HousingUnits2011',\n",
    "                                       'HousingUnits2012',\n",
    "                                   'HousingUnits2013',\n",
    "                                       'HousingUnits2014' ]].mean(axis = 1)\n",
    "\n",
    "ResInv['HousingUnits2015_2019'] = ResInv[['HousingUnits2015','HousingUnits2016',\n",
    "                                   'HousingUnits2017',\n",
    "                                  'HousingUnits2018',\n",
    "                                   'HousingUnits2019']].mean(axis = 1)\n",
    "     "
   ]
  },
  {
   "cell_type": "code",
   "execution_count": 33,
   "metadata": {},
   "outputs": [],
   "source": [
    "ResInv['Housing'] = ResInv['HousingUnits2015_2019'] - ResInv['HousingUnits2010_2014'] "
   ]
  },
  {
   "cell_type": "code",
   "execution_count": 34,
   "metadata": {},
   "outputs": [],
   "source": [
    "ResInv['HousingChange'] = ResInv['HousingUnits2019'] - ResInv['HousingUnits2010'] "
   ]
  },
  {
   "cell_type": "markdown",
   "metadata": {},
   "source": [
    " - Sales Price"
   ]
  },
  {
   "cell_type": "code",
   "execution_count": 35,
   "metadata": {},
   "outputs": [],
   "source": [
    "ResInv['SalesPrice2010_2014'] = ResInv[['Price2010','Price2011','Price2012','Price2013','Price2014' ]].mean(axis = 1)\n",
    "\n",
    "ResInv['SalesPrice2015_2019'] = ResInv[['Price2015','Price2016','Price2017','Price2018','Price2019' ]].mean(axis = 1)"
   ]
  },
  {
   "cell_type": "code",
   "execution_count": 36,
   "metadata": {},
   "outputs": [],
   "source": [
    "ResInv['MedianSalesAverageChange'] = ResInv['SalesPrice2015_2019'] - ResInv['SalesPrice2010_2014'] "
   ]
  },
  {
   "cell_type": "code",
   "execution_count": 37,
   "metadata": {},
   "outputs": [],
   "source": [
    "ResInv['SalesChange'] = ResInv['Price2019'] - ResInv['Price2010'] "
   ]
  },
  {
   "cell_type": "markdown",
   "metadata": {},
   "source": [
    "- Net Building Value"
   ]
  },
  {
   "cell_type": "code",
   "execution_count": 38,
   "metadata": {},
   "outputs": [],
   "source": [
    "ResInv['NetBldValue2010_2014'] = ResInv[['NetBldgVal2010','NetBldgVal2011','NetBldgVal2012',\n",
    "                                'NetBldgVal2013','NetBldgVal2014' ]].mean(axis = 1)\n",
    "\n",
    "ResInv['NetBldValue2015_2019'] = ResInv[['NetBldgVal2015','NetBldgVal2016','NetBldgVal2017',\n",
    "                                'NetBldgVal2018','NetBldgVal2019' ]].mean(axis = 1)"
   ]
  },
  {
   "cell_type": "code",
   "execution_count": 39,
   "metadata": {},
   "outputs": [],
   "source": [
    "ResInv['NetBuildingValue'] = ResInv['NetBldValue2015_2019'] - ResInv['NetBldValue2010_2014'] "
   ]
  },
  {
   "cell_type": "code",
   "execution_count": 40,
   "metadata": {},
   "outputs": [],
   "source": [
    "ResInv['NetBldValueChange'] = ResInv['NetBldgVal2019'] - ResInv['NetBldgVal2010'] "
   ]
  },
  {
   "cell_type": "markdown",
   "metadata": {},
   "source": [
    "- Average Age"
   ]
  },
  {
   "cell_type": "code",
   "execution_count": 41,
   "metadata": {},
   "outputs": [],
   "source": [
    "ResInv['AverageAge2010_2014'] = ResInv[['AverageYearBuilt2010','AverageYearBuilt2011','AverageYearBuilt2012',\n",
    "                                'AverageYearBuilt2013','AverageYearBuilt2014' ]].mean(axis = 1)\n",
    "\n",
    "ResInv['AverageAge2015_2019'] = ResInv[['AverageYearBuilt2015','AverageYearBuilt2016','AverageYearBuilt2017',\n",
    "                                'AverageYearBuilt2018','AverageYearBuilt2019' ]].mean(axis = 1)"
   ]
  },
  {
   "cell_type": "code",
   "execution_count": 42,
   "metadata": {},
   "outputs": [],
   "source": [
    "ResInv['AverageAgeChange'] = ResInv['AverageYearBuilt2019'] - ResInv['AverageYearBuilt2010'] "
   ]
  },
  {
   "cell_type": "markdown",
   "metadata": {},
   "source": [
    "- Single Family Units"
   ]
  },
  {
   "cell_type": "code",
   "execution_count": 43,
   "metadata": {},
   "outputs": [],
   "source": [
    "ResInv['SingleFamily2010_2014'] = ResInv[['SFUnits2010','SFUnits2011','SFUnits2012','SFUnits2013','SFUnits2014']].mean(axis=1)\n",
    "ResInv['SingleFamily2015_2019'] = ResInv[['SFUnits2015','SFUnits2016','SFUnits2017','SFUnits2018','SFUnits2019']].mean(axis=1)\n"
   ]
  },
  {
   "cell_type": "code",
   "execution_count": 44,
   "metadata": {},
   "outputs": [],
   "source": [
    "ResInv['SingleFamAverage'] = ResInv['SingleFamily2015_2019'] - ResInv['SingleFamily2010_2014'] "
   ]
  },
  {
   "cell_type": "code",
   "execution_count": 45,
   "metadata": {},
   "outputs": [],
   "source": [
    "ResInv['SFChange'] = ResInv['SFUnits2019'] - ResInv['SFUnits2010']"
   ]
  },
  {
   "cell_type": "code",
   "execution_count": 46,
   "metadata": {},
   "outputs": [],
   "source": [
    "# ResInv[col].agg(['mean', 'std','max','min'])"
   ]
  },
  {
   "cell_type": "code",
   "execution_count": 77,
   "metadata": {},
   "outputs": [],
   "source": [
    "### Full Model\n",
    "\n",
    "IndependentVariables = ['White','PercentWhite2010','PercentAdultsWithAtLeastBachelors2010',\n",
    "                        'Education','Bld30yrs','Percent30Years2010','AverageAge2010_2014','SingleFamAverage','SFChange',\n",
    "                        'NetBldValue2015_2019','SalesPrice2010_2014','Price2010','NetBldgVal2010','AverageYearBuilt2010',\n",
    "                        'Ownership','PercentOwnerOccupied2010','Income','MHIncome2010','Housing','HousingUnits2010' ]"
   ]
  },
  {
   "cell_type": "code",
   "execution_count": 48,
   "metadata": {},
   "outputs": [],
   "source": [
    "### Full Model\n",
    "\n",
    "# IndependentVariables = ['White','PercentWhite2010','PercentAdultsWithAtLeastBachelors2010',\n",
    "#                         'Education','Bld30yrs','Percent30Years2010',\n",
    "#                         'Ownership','PercentOwnerOccupied2010','Income','MHIncome2010','Housing','HousingUnits2010' ]"
   ]
  },
  {
   "cell_type": "code",
   "execution_count": 49,
   "metadata": {},
   "outputs": [
    {
     "data": {
      "image/png": "[encoded data removed]",
      "text/plain": [
       "<Figure size 1080x720 with 2 Axes>"
      ]
     },
     "metadata": {
      "needs_background": "light"
     },
     "output_type": "display_data"
    }
   ],
   "source": [
    "corrmat = ResInv[IndependentVariables].corr()\n",
    "f, ax = plt.subplots(figsize=(15, 10))\n",
    "sns.heatmap(corrmat, vmax=1, square=True,fmt= '.2f',annot_kws={'size': 10}, \n",
    "            annot= True, cmap=\"Spectral\")\n",
    "plt.show();"
   ]
  },
  {
   "cell_type": "markdown",
   "metadata": {},
   "source": [
    "## Regresssion "
   ]
  },
  {
   "cell_type": "code",
   "execution_count": 50,
   "metadata": {},
   "outputs": [],
   "source": [
    "# Exogeneous = sm.add_constant(ResInv[IndependentVariables])\n",
    "# Lasso = sm.OLS(ResInv.Reno5yearDiff, Exogeneous).fit_regularized(alpha=1.0, L1_wt=1.0)\n",
    "# print(Lasso.params)"
   ]
  },
  {
   "cell_type": "code",
   "execution_count": 51,
   "metadata": {},
   "outputs": [],
   "source": [
    "VIF = pd.DataFrame(ResInv[IndependentVariables])\n",
    "VIF.replace([np.inf, -np.inf,np.nan], 0, inplace=True)"
   ]
  },
  {
   "cell_type": "code",
   "execution_count": 52,
   "metadata": {},
   "outputs": [],
   "source": [
    "ResInv.replace([np.inf, -np.inf,np.nan], 0, inplace=True)"
   ]
  },
  {
   "cell_type": "code",
   "execution_count": 53,
   "metadata": {},
   "outputs": [],
   "source": [
    "def calc_vif(X):\n",
    "    vif = pd.DataFrame()\n",
    "    vif['Variable'] = X.columns\n",
    "    vif['VIF'] = [variance_inflation_factor(X.values, i) for i in range(X.shape[1])]\n",
    "    return(vif)\n"
   ]
  },
  {
   "cell_type": "code",
   "execution_count": 54,
   "metadata": {
    "scrolled": false
   },
   "outputs": [
    {
     "data": {
      "text/html": [
       "<div>\n",
       "<style scoped>\n",
       "    .dataframe tbody tr th:only-of-type {\n",
       "        vertical-align: middle;\n",
       "    }\n",
       "\n",
       "    .dataframe tbody tr th {\n",
       "        vertical-align: top;\n",
       "    }\n",
       "\n",
       "    .dataframe thead th {\n",
       "        text-align: right;\n",
       "    }\n",
       "</style>\n",
       "<table border=\"1\" class=\"dataframe\">\n",
       "  <thead>\n",
       "    <tr style=\"text-align: right;\">\n",
       "      <th></th>\n",
       "      <th>Variable</th>\n",
       "      <th>VIF</th>\n",
       "    </tr>\n",
       "  </thead>\n",
       "  <tbody>\n",
       "    <tr>\n",
       "      <th>2</th>\n",
       "      <td>PercentAdultsWithAtLeastBachelors2010</td>\n",
       "      <td>19.0782735492</td>\n",
       "    </tr>\n",
       "    <tr>\n",
       "      <th>9</th>\n",
       "      <td>MHIncome2010</td>\n",
       "      <td>16.1302293283</td>\n",
       "    </tr>\n",
       "    <tr>\n",
       "      <th>1</th>\n",
       "      <td>PercentWhite2010</td>\n",
       "      <td>13.7720784043</td>\n",
       "    </tr>\n",
       "    <tr>\n",
       "      <th>7</th>\n",
       "      <td>PercentOwnerOccupied2010</td>\n",
       "      <td>10.2038002111</td>\n",
       "    </tr>\n",
       "    <tr>\n",
       "      <th>11</th>\n",
       "      <td>HousingUnits2010</td>\n",
       "      <td>3.9458331945</td>\n",
       "    </tr>\n",
       "    <tr>\n",
       "      <th>5</th>\n",
       "      <td>Percent30Years2010</td>\n",
       "      <td>3.2755684435</td>\n",
       "    </tr>\n",
       "    <tr>\n",
       "      <th>10</th>\n",
       "      <td>Housing</td>\n",
       "      <td>1.9036596251</td>\n",
       "    </tr>\n",
       "    <tr>\n",
       "      <th>8</th>\n",
       "      <td>Income</td>\n",
       "      <td>1.8748509932</td>\n",
       "    </tr>\n",
       "    <tr>\n",
       "      <th>6</th>\n",
       "      <td>Ownership</td>\n",
       "      <td>1.7497287496</td>\n",
       "    </tr>\n",
       "    <tr>\n",
       "      <th>4</th>\n",
       "      <td>Bld30yrs</td>\n",
       "      <td>1.7368890999</td>\n",
       "    </tr>\n",
       "    <tr>\n",
       "      <th>3</th>\n",
       "      <td>Education</td>\n",
       "      <td>1.6120827832</td>\n",
       "    </tr>\n",
       "    <tr>\n",
       "      <th>0</th>\n",
       "      <td>White</td>\n",
       "      <td>1.3830833578</td>\n",
       "    </tr>\n",
       "  </tbody>\n",
       "</table>\n",
       "</div>"
      ],
      "text/plain": [
       "                                 Variable           VIF\n",
       "2   PercentAdultsWithAtLeastBachelors2010 19.0782735492\n",
       "9                            MHIncome2010 16.1302293283\n",
       "1                        PercentWhite2010 13.7720784043\n",
       "7                PercentOwnerOccupied2010 10.2038002111\n",
       "11                       HousingUnits2010  3.9458331945\n",
       "5                      Percent30Years2010  3.2755684435\n",
       "10                                Housing  1.9036596251\n",
       "8                                  Income  1.8748509932\n",
       "6                               Ownership  1.7497287496\n",
       "4                                Bld30yrs  1.7368890999\n",
       "3                               Education  1.6120827832\n",
       "0                                   White  1.3830833578"
      ]
     },
     "execution_count": 54,
     "metadata": {},
     "output_type": "execute_result"
    }
   ],
   "source": [
    "calc_vif(VIF).sort_values(by=['VIF'],ascending=False)"
   ]
  },
  {
   "cell_type": "code",
   "execution_count": 55,
   "metadata": {},
   "outputs": [
    {
     "data": {
      "text/plain": [
       "(386, 389)"
      ]
     },
     "execution_count": 55,
     "metadata": {},
     "output_type": "execute_result"
    }
   ],
   "source": [
    "ResInv.replace([np.inf, -np.inf,np.nan], 0, inplace=True)\n",
    "\n",
    "# ResInv = ResInv.dropna()\n",
    "\n",
    "ResInv.shape"
   ]
  },
  {
   "cell_type": "markdown",
   "metadata": {},
   "source": [
    "- **Difference in 5 year sums *2010 to 2014* minus *2015 to 2019***"
   ]
  },
  {
   "cell_type": "code",
   "execution_count": 57,
   "metadata": {},
   "outputs": [],
   "source": [
    "## Full Model\n",
    "\n",
    "# IndependentVariables = ['White','PercentWhite2010','PercentAdultsWithAtLeastBachelors2010',\n",
    "#                         'Education','Bld30yrs','Percent30Years2010',\n",
    "#                         'Ownership','PercentOwnerOccupied2010','Income','MHIncome2010','Housing',\n",
    "#                         'HousingUnits2010' ]"
   ]
  },
  {
   "cell_type": "code",
   "execution_count": 58,
   "metadata": {},
   "outputs": [],
   "source": [
    "# IndependentVariables = ['White','PercentWhite2010','Bld30yrs','Percent30Years2010',\n",
    "#                        'Ownership','PercentOwnerOccupied2010','Housing','HousingUnits2010']"
   ]
  },
  {
   "cell_type": "code",
   "execution_count": 59,
   "metadata": {},
   "outputs": [],
   "source": [
    "IndependentVariables = ['White','PercentWhite2010','PercentAdultsWithAtLeastBachelors2010','SingleFamAverage','SFChange',\n",
    "                        'Education','Bld30yrs','Percent30Years2010','AverageAge2010_2014','SFUnits2010',\n",
    "                        'NetBldValue2015_2019','SalesPrice2010_2014','Price2010','NetBldgVal2010','AverageYearBuilt2010',\n",
    "                        'Ownership','PercentOwnerOccupied2010','Income','MHIncome2010','Housing','HousingUnits2010' ]"
   ]
  },
  {
   "cell_type": "code",
   "execution_count": 56,
   "metadata": {},
   "outputs": [],
   "source": [
    "## Full Model\n",
    "\n",
    "# IndependentVariables = ['White2012_2017','Per30Years2012_2017','PercentWhite2015','Percent30Years2015',\n",
    "#                        'Inc2012_2017','MHIncome2015','Ownership2012_2017','PercentOwnerOccupied2015','HousingUnits2015' ]"
   ]
  },
  {
   "cell_type": "code",
   "execution_count": 60,
   "metadata": {},
   "outputs": [],
   "source": [
    "IndependentVariables = ['White','PercentWhite2010','PercentAdultsWithAtLeastBachelors2010',\n",
    "                        'Education','Bld30yrs','Percent30Years2010',\n",
    "                        'Ownership','PercentOwnerOccupied2010','Income','MHIncome2010','Housing','HousingUnits2010' ]"
   ]
  },
  {
   "cell_type": "code",
   "execution_count": 61,
   "metadata": {},
   "outputs": [
    {
     "name": "stdout",
     "output_type": "stream",
     "text": [
      "                            OLS Regression Results                            \n",
      "==============================================================================\n",
      "Dep. Variable:            Reno10Years   R-squared:                       0.645\n",
      "Model:                            OLS   Adj. R-squared:                  0.634\n",
      "Method:                 Least Squares   F-statistic:                     56.58\n",
      "Date:                Wed, 20 Sep 2023   Prob (F-statistic):           2.43e-76\n",
      "Time:                        13:36:37   Log-Likelihood:                -2124.9\n",
      "No. Observations:                 386   AIC:                             4276.\n",
      "Df Residuals:                     373   BIC:                             4327.\n",
      "Df Model:                          12                                         \n",
      "Covariance Type:            nonrobust                                         \n",
      "=========================================================================================================\n",
      "                                            coef    std err          t      P>|t|      [0.025      0.975]\n",
      "---------------------------------------------------------------------------------------------------------\n",
      "const                                  -170.5745     14.151    -12.054      0.000    -198.400    -142.749\n",
      "White                                     0.8268      0.399      2.070      0.039       0.041       1.612\n",
      "PercentWhite2010                          0.1223      0.225      0.543      0.587      -0.320       0.565\n",
      "PercentAdultsWithAtLeastBachelors2010     0.2415      0.341      0.708      0.479      -0.429       0.912\n",
      "Education                                -0.0558      0.520     -0.107      0.915      -1.078       0.966\n",
      "Bld30yrs                                 -2.7354      0.797     -3.433      0.001      -4.302      -1.169\n",
      "Percent30Years2010                        0.6957      0.117      5.939      0.000       0.465       0.926\n",
      "Ownership                                -0.0494      0.441     -0.112      0.911      -0.916       0.817\n",
      "PercentOwnerOccupied2010                  0.3987      0.169      2.363      0.019       0.067       0.730\n",
      "Income                                    0.0014      0.000      4.745      0.000       0.001       0.002\n",
      "MHIncome2010                              0.0010      0.000      5.321      0.000       0.001       0.001\n",
      "Housing                                  -0.0019      0.021     -0.090      0.928      -0.044       0.040\n",
      "HousingUnits2010                          0.1084      0.006     17.074      0.000       0.096       0.121\n",
      "==============================================================================\n",
      "Omnibus:                      290.133   Durbin-Watson:                   1.779\n",
      "Prob(Omnibus):                  0.000   Jarque-Bera (JB):             8751.189\n",
      "Skew:                           2.785   Prob(JB):                         0.00\n",
      "Kurtosis:                      25.652   Cond. No.                     3.10e+05\n",
      "==============================================================================\n",
      "\n",
      "Notes:\n",
      "[1] Standard Errors assume that the covariance matrix of the errors is correctly specified.\n",
      "[2] The condition number is large, 3.1e+05. This might indicate that there are\n",
      "strong multicollinearity or other numerical problems.\n"
     ]
    }
   ],
   "source": [
    "Exogeneous = sm.add_constant(ResInv[IndependentVariables])\n",
    "\n",
    "PerAgg = sm.OLS(ResInv.Reno5yearDiff, Exogeneous)\n",
    "PerAggOLS = PerAgg.fit()\n",
    "print(PerAggOLS.summary())\n"
   ]
  },
  {
   "cell_type": "code",
   "execution_count": 62,
   "metadata": {},
   "outputs": [],
   "source": [
    "# residuals = PerAggOLS.resid\n",
    "# residualdf = pd.DataFrame({\n",
    "#     'NPA': ResInv['NPA'],\n",
    "#     'residuals': residuals})\n",
    "# residualdf.to_csv('Reno5yearDiff.csv',index = False)"
   ]
  },
  {
   "cell_type": "code",
   "execution_count": 76,
   "metadata": {},
   "outputs": [
    {
     "data": {
      "text/html": [
       "<div>\n",
       "<style scoped>\n",
       "    .dataframe tbody tr th:only-of-type {\n",
       "        vertical-align: middle;\n",
       "    }\n",
       "\n",
       "    .dataframe tbody tr th {\n",
       "        vertical-align: top;\n",
       "    }\n",
       "\n",
       "    .dataframe thead th {\n",
       "        text-align: right;\n",
       "    }\n",
       "</style>\n",
       "<table border=\"1\" class=\"dataframe\">\n",
       "  <thead>\n",
       "    <tr style=\"text-align: right;\">\n",
       "      <th></th>\n",
       "      <th>Coefficient</th>\n",
       "      <th>p-value</th>\n",
       "      <th>Significance</th>\n",
       "    </tr>\n",
       "  </thead>\n",
       "  <tbody>\n",
       "    <tr>\n",
       "      <th>const</th>\n",
       "      <td>5518.6522141516</td>\n",
       "      <td>0.0000000000</td>\n",
       "      <td>*</td>\n",
       "    </tr>\n",
       "    <tr>\n",
       "      <th>OwnershipChange</th>\n",
       "      <td>0.3604647956</td>\n",
       "      <td>0.1764096911</td>\n",
       "      <td></td>\n",
       "    </tr>\n",
       "    <tr>\n",
       "      <th>Bld30yrsChange</th>\n",
       "      <td>0.6062183353</td>\n",
       "      <td>0.5332104842</td>\n",
       "      <td></td>\n",
       "    </tr>\n",
       "    <tr>\n",
       "      <th>IncomeChange</th>\n",
       "      <td>0.0005617191</td>\n",
       "      <td>0.0032383491</td>\n",
       "      <td>*</td>\n",
       "    </tr>\n",
       "    <tr>\n",
       "      <th>MHIncome2010</th>\n",
       "      <td>0.0007938797</td>\n",
       "      <td>0.0001952472</td>\n",
       "      <td>*</td>\n",
       "    </tr>\n",
       "    <tr>\n",
       "      <th>WhiteChange</th>\n",
       "      <td>-0.0075880514</td>\n",
       "      <td>0.9775938094</td>\n",
       "      <td></td>\n",
       "    </tr>\n",
       "    <tr>\n",
       "      <th>PercentWhite2010</th>\n",
       "      <td>0.1182839474</td>\n",
       "      <td>0.5860730986</td>\n",
       "      <td></td>\n",
       "    </tr>\n",
       "    <tr>\n",
       "      <th>PercentAdultsWithAtLeastBachelors2010</th>\n",
       "      <td>0.0311534211</td>\n",
       "      <td>0.9208504841</td>\n",
       "      <td></td>\n",
       "    </tr>\n",
       "    <tr>\n",
       "      <th>EducationChange</th>\n",
       "      <td>0.0456134505</td>\n",
       "      <td>0.8871329581</td>\n",
       "      <td></td>\n",
       "    </tr>\n",
       "    <tr>\n",
       "      <th>HousingChange</th>\n",
       "      <td>0.0126232466</td>\n",
       "      <td>0.1627789749</td>\n",
       "      <td></td>\n",
       "    </tr>\n",
       "    <tr>\n",
       "      <th>Percent30Years2010</th>\n",
       "      <td>-0.0995970588</td>\n",
       "      <td>0.5596925621</td>\n",
       "      <td></td>\n",
       "    </tr>\n",
       "    <tr>\n",
       "      <th>SalesChange</th>\n",
       "      <td>0.0002087529</td>\n",
       "      <td>0.0000119431</td>\n",
       "      <td>*</td>\n",
       "    </tr>\n",
       "    <tr>\n",
       "      <th>Price2010</th>\n",
       "      <td>0.0000931120</td>\n",
       "      <td>0.1804979001</td>\n",
       "      <td></td>\n",
       "    </tr>\n",
       "    <tr>\n",
       "      <th>NetBldValueChange</th>\n",
       "      <td>0.0000248069</td>\n",
       "      <td>0.2992657775</td>\n",
       "      <td></td>\n",
       "    </tr>\n",
       "    <tr>\n",
       "      <th>AverageAgeChange</th>\n",
       "      <td>0.8155087200</td>\n",
       "      <td>0.5368611213</td>\n",
       "      <td></td>\n",
       "    </tr>\n",
       "    <tr>\n",
       "      <th>NetBldgVal2010</th>\n",
       "      <td>0.0000397930</td>\n",
       "      <td>0.2147208001</td>\n",
       "      <td></td>\n",
       "    </tr>\n",
       "    <tr>\n",
       "      <th>AverageYearBuilt2010</th>\n",
       "      <td>-2.8538243590</td>\n",
       "      <td>0.0000000000</td>\n",
       "      <td>*</td>\n",
       "    </tr>\n",
       "    <tr>\n",
       "      <th>PercentOwnerOccupied2010</th>\n",
       "      <td>0.6690797448</td>\n",
       "      <td>0.0000558211</td>\n",
       "      <td>*</td>\n",
       "    </tr>\n",
       "    <tr>\n",
       "      <th>HousingUnits2010</th>\n",
       "      <td>0.1065270518</td>\n",
       "      <td>0.0000000000</td>\n",
       "      <td>*</td>\n",
       "    </tr>\n",
       "  </tbody>\n",
       "</table>\n",
       "</div>"
      ],
      "text/plain": [
       "                                          Coefficient      p-value  \\\n",
       "const                                 5518.6522141516 0.0000000000   \n",
       "OwnershipChange                          0.3604647956 0.1764096911   \n",
       "Bld30yrsChange                           0.6062183353 0.5332104842   \n",
       "IncomeChange                             0.0005617191 0.0032383491   \n",
       "MHIncome2010                             0.0007938797 0.0001952472   \n",
       "WhiteChange                             -0.0075880514 0.9775938094   \n",
       "PercentWhite2010                         0.1182839474 0.5860730986   \n",
       "PercentAdultsWithAtLeastBachelors2010    0.0311534211 0.9208504841   \n",
       "EducationChange                          0.0456134505 0.8871329581   \n",
       "HousingChange                            0.0126232466 0.1627789749   \n",
       "Percent30Years2010                      -0.0995970588 0.5596925621   \n",
       "SalesChange                              0.0002087529 0.0000119431   \n",
       "Price2010                                0.0000931120 0.1804979001   \n",
       "NetBldValueChange                        0.0000248069 0.2992657775   \n",
       "AverageAgeChange                         0.8155087200 0.5368611213   \n",
       "NetBldgVal2010                           0.0000397930 0.2147208001   \n",
       "AverageYearBuilt2010                    -2.8538243590 0.0000000000   \n",
       "PercentOwnerOccupied2010                 0.6690797448 0.0000558211   \n",
       "HousingUnits2010                         0.1065270518 0.0000000000   \n",
       "\n",
       "                                      Significance  \n",
       "const                                            *  \n",
       "OwnershipChange                                     \n",
       "Bld30yrsChange                                      \n",
       "IncomeChange                                     *  \n",
       "MHIncome2010                                     *  \n",
       "WhiteChange                                         \n",
       "PercentWhite2010                                    \n",
       "PercentAdultsWithAtLeastBachelors2010               \n",
       "EducationChange                                     \n",
       "HousingChange                                       \n",
       "Percent30Years2010                                  \n",
       "SalesChange                                      *  \n",
       "Price2010                                           \n",
       "NetBldValueChange                                   \n",
       "AverageAgeChange                                    \n",
       "NetBldgVal2010                                      \n",
       "AverageYearBuilt2010                             *  \n",
       "PercentOwnerOccupied2010                         *  \n",
       "HousingUnits2010                                 *  "
      ]
     },
     "execution_count": 76,
     "metadata": {},
     "output_type": "execute_result"
    }
   ],
   "source": [
    "p_values = PerAggOLS.pvalues\n",
    "\n",
    "alpha = 0.05\n",
    "\n",
    "stars = ['*' if p < alpha else '' for p in p_values]\n",
    "\n",
    "summary_table = pd.DataFrame({\n",
    "    'Coefficient': PerAggOLS.params,\n",
    "    'p-value': p_values,\n",
    "    'Significance': stars\n",
    "})\n",
    "\n",
    "pd.DataFrame(summary_table)"
   ]
  },
  {
   "cell_type": "markdown",
   "metadata": {},
   "source": [
    "- **Ten year sum on average 5 year difference** "
   ]
  },
  {
   "cell_type": "code",
   "execution_count": 64,
   "metadata": {},
   "outputs": [],
   "source": [
    "IndependentVariables = ['White','PercentWhite2010','PercentAdultsWithAtLeastBachelors2010',\n",
    "                        'Education','Bld30yrs','Percent30Years2010',\n",
    "                        'NetBuildingValue','NetBldgVal2010','MedianSalesAverageChange','Price2010',\n",
    "                        'Ownership','PercentOwnerOccupied2010','Income','MHIncome2010','Housing','HousingUnits2010' ]"
   ]
  },
  {
   "cell_type": "code",
   "execution_count": 65,
   "metadata": {},
   "outputs": [
    {
     "name": "stdout",
     "output_type": "stream",
     "text": [
      "                            OLS Regression Results                            \n",
      "==============================================================================\n",
      "Dep. Variable:            Reno10Years   R-squared:                       0.674\n",
      "Model:                            OLS   Adj. R-squared:                  0.660\n",
      "Method:                 Least Squares   F-statistic:                     47.78\n",
      "Date:                Wed, 20 Sep 2023   Prob (F-statistic):           1.30e-79\n",
      "Time:                        13:36:38   Log-Likelihood:                -2108.4\n",
      "No. Observations:                 386   AIC:                             4251.\n",
      "Df Residuals:                     369   BIC:                             4318.\n",
      "Df Model:                          16                                         \n",
      "Covariance Type:            nonrobust                                         \n",
      "=========================================================================================================\n",
      "                                            coef    std err          t      P>|t|      [0.025      0.975]\n",
      "---------------------------------------------------------------------------------------------------------\n",
      "const                                  -161.5110     14.848    -10.877      0.000    -190.709    -132.313\n",
      "White                                     0.7577      0.390      1.942      0.053      -0.009       1.525\n",
      "PercentWhite2010                          0.0677      0.226      0.299      0.765      -0.378       0.513\n",
      "PercentAdultsWithAtLeastBachelors2010     0.0844      0.336      0.251      0.802      -0.577       0.746\n",
      "Education                                -0.3525      0.506     -0.697      0.486      -1.347       0.642\n",
      "Bld30yrs                                 -1.5126      0.804     -1.882      0.061      -3.093       0.068\n",
      "Percent30Years2010                        0.6195      0.128      4.833      0.000       0.367       0.872\n",
      "NetBuildingValue                       8.642e-06   3.93e-05      0.220      0.826   -6.87e-05     8.6e-05\n",
      "NetBldgVal2010                         1.632e-05   4.79e-05      0.341      0.733   -7.78e-05       0.000\n",
      "MedianSalesAverageChange                  0.0006      0.000      5.677      0.000       0.000       0.001\n",
      "Price2010                              7.937e-06   7.81e-05      0.102      0.919      -0.000       0.000\n",
      "Ownership                                -0.1668      0.426     -0.392      0.695      -1.004       0.670\n",
      "PercentOwnerOccupied2010                  0.4623      0.176      2.623      0.009       0.116       0.809\n",
      "Income                                    0.0009      0.000      3.018      0.003       0.000       0.002\n",
      "MHIncome2010                              0.0008      0.000      3.430      0.001       0.000       0.001\n",
      "Housing                                   0.0067      0.021      0.325      0.746      -0.034       0.047\n",
      "HousingUnits2010                          0.1104      0.006     17.838      0.000       0.098       0.123\n",
      "==============================================================================\n",
      "Omnibus:                      300.095   Durbin-Watson:                   1.794\n",
      "Prob(Omnibus):                  0.000   Jarque-Bera (JB):            10292.525\n",
      "Skew:                           2.884   Prob(JB):                         0.00\n",
      "Kurtosis:                      27.631   Cond. No.                     1.24e+06\n",
      "==============================================================================\n",
      "\n",
      "Notes:\n",
      "[1] Standard Errors assume that the covariance matrix of the errors is correctly specified.\n",
      "[2] The condition number is large, 1.24e+06. This might indicate that there are\n",
      "strong multicollinearity or other numerical problems.\n"
     ]
    }
   ],
   "source": [
    "Exogeneous = sm.add_constant(ResInv[IndependentVariables])\n",
    "\n",
    "PerAgg = sm.OLS(ResInv.Reno10Years, Exogeneous)\n",
    "PerAggOLS = PerAgg.fit()\n",
    "print(PerAggOLS.summary())"
   ]
  },
  {
   "cell_type": "code",
   "execution_count": 66,
   "metadata": {},
   "outputs": [
    {
     "data": {
      "text/html": [
       "<div>\n",
       "<style scoped>\n",
       "    .dataframe tbody tr th:only-of-type {\n",
       "        vertical-align: middle;\n",
       "    }\n",
       "\n",
       "    .dataframe tbody tr th {\n",
       "        vertical-align: top;\n",
       "    }\n",
       "\n",
       "    .dataframe thead th {\n",
       "        text-align: right;\n",
       "    }\n",
       "</style>\n",
       "<table border=\"1\" class=\"dataframe\">\n",
       "  <thead>\n",
       "    <tr style=\"text-align: right;\">\n",
       "      <th></th>\n",
       "      <th>Coefficient</th>\n",
       "      <th>p-value</th>\n",
       "      <th>Significance</th>\n",
       "    </tr>\n",
       "  </thead>\n",
       "  <tbody>\n",
       "    <tr>\n",
       "      <th>const</th>\n",
       "      <td>-161.5110337076</td>\n",
       "      <td>0.0000000000</td>\n",
       "      <td>*</td>\n",
       "    </tr>\n",
       "    <tr>\n",
       "      <th>White</th>\n",
       "      <td>0.7576845508</td>\n",
       "      <td>0.0528534850</td>\n",
       "      <td></td>\n",
       "    </tr>\n",
       "    <tr>\n",
       "      <th>PercentWhite2010</th>\n",
       "      <td>0.0676639229</td>\n",
       "      <td>0.7652147127</td>\n",
       "      <td></td>\n",
       "    </tr>\n",
       "    <tr>\n",
       "      <th>PercentAdultsWithAtLeastBachelors2010</th>\n",
       "      <td>0.0844108358</td>\n",
       "      <td>0.8020137000</td>\n",
       "      <td></td>\n",
       "    </tr>\n",
       "    <tr>\n",
       "      <th>Education</th>\n",
       "      <td>-0.3525471296</td>\n",
       "      <td>0.4863721706</td>\n",
       "      <td></td>\n",
       "    </tr>\n",
       "    <tr>\n",
       "      <th>Bld30yrs</th>\n",
       "      <td>-1.5126345195</td>\n",
       "      <td>0.0606071281</td>\n",
       "      <td></td>\n",
       "    </tr>\n",
       "    <tr>\n",
       "      <th>Percent30Years2010</th>\n",
       "      <td>0.6194551203</td>\n",
       "      <td>0.0000019781</td>\n",
       "      <td>*</td>\n",
       "    </tr>\n",
       "    <tr>\n",
       "      <th>NetBuildingValue</th>\n",
       "      <td>0.0000086424</td>\n",
       "      <td>0.8262304038</td>\n",
       "      <td></td>\n",
       "    </tr>\n",
       "    <tr>\n",
       "      <th>NetBldgVal2010</th>\n",
       "      <td>0.0000163160</td>\n",
       "      <td>0.7334601131</td>\n",
       "      <td></td>\n",
       "    </tr>\n",
       "    <tr>\n",
       "      <th>MedianSalesAverageChange</th>\n",
       "      <td>0.0006423267</td>\n",
       "      <td>0.0000000277</td>\n",
       "      <td>*</td>\n",
       "    </tr>\n",
       "    <tr>\n",
       "      <th>Price2010</th>\n",
       "      <td>0.0000079373</td>\n",
       "      <td>0.9191268588</td>\n",
       "      <td></td>\n",
       "    </tr>\n",
       "    <tr>\n",
       "      <th>Ownership</th>\n",
       "      <td>-0.1667636467</td>\n",
       "      <td>0.6953897303</td>\n",
       "      <td></td>\n",
       "    </tr>\n",
       "    <tr>\n",
       "      <th>PercentOwnerOccupied2010</th>\n",
       "      <td>0.4622769343</td>\n",
       "      <td>0.0090733488</td>\n",
       "      <td>*</td>\n",
       "    </tr>\n",
       "    <tr>\n",
       "      <th>Income</th>\n",
       "      <td>0.0009398634</td>\n",
       "      <td>0.0027180498</td>\n",
       "      <td>*</td>\n",
       "    </tr>\n",
       "    <tr>\n",
       "      <th>MHIncome2010</th>\n",
       "      <td>0.0007949699</td>\n",
       "      <td>0.0006716151</td>\n",
       "      <td>*</td>\n",
       "    </tr>\n",
       "    <tr>\n",
       "      <th>Housing</th>\n",
       "      <td>0.0067135334</td>\n",
       "      <td>0.7455760332</td>\n",
       "      <td></td>\n",
       "    </tr>\n",
       "    <tr>\n",
       "      <th>HousingUnits2010</th>\n",
       "      <td>0.1104151312</td>\n",
       "      <td>0.0000000000</td>\n",
       "      <td>*</td>\n",
       "    </tr>\n",
       "  </tbody>\n",
       "</table>\n",
       "</div>"
      ],
      "text/plain": [
       "                                          Coefficient      p-value  \\\n",
       "const                                 -161.5110337076 0.0000000000   \n",
       "White                                    0.7576845508 0.0528534850   \n",
       "PercentWhite2010                         0.0676639229 0.7652147127   \n",
       "PercentAdultsWithAtLeastBachelors2010    0.0844108358 0.8020137000   \n",
       "Education                               -0.3525471296 0.4863721706   \n",
       "Bld30yrs                                -1.5126345195 0.0606071281   \n",
       "Percent30Years2010                       0.6194551203 0.0000019781   \n",
       "NetBuildingValue                         0.0000086424 0.8262304038   \n",
       "NetBldgVal2010                           0.0000163160 0.7334601131   \n",
       "MedianSalesAverageChange                 0.0006423267 0.0000000277   \n",
       "Price2010                                0.0000079373 0.9191268588   \n",
       "Ownership                               -0.1667636467 0.6953897303   \n",
       "PercentOwnerOccupied2010                 0.4622769343 0.0090733488   \n",
       "Income                                   0.0009398634 0.0027180498   \n",
       "MHIncome2010                             0.0007949699 0.0006716151   \n",
       "Housing                                  0.0067135334 0.7455760332   \n",
       "HousingUnits2010                         0.1104151312 0.0000000000   \n",
       "\n",
       "                                      Significance  \n",
       "const                                            *  \n",
       "White                                               \n",
       "PercentWhite2010                                    \n",
       "PercentAdultsWithAtLeastBachelors2010               \n",
       "Education                                           \n",
       "Bld30yrs                                            \n",
       "Percent30Years2010                               *  \n",
       "NetBuildingValue                                    \n",
       "NetBldgVal2010                                      \n",
       "MedianSalesAverageChange                         *  \n",
       "Price2010                                           \n",
       "Ownership                                           \n",
       "PercentOwnerOccupied2010                         *  \n",
       "Income                                           *  \n",
       "MHIncome2010                                     *  \n",
       "Housing                                             \n",
       "HousingUnits2010                                 *  "
      ]
     },
     "execution_count": 66,
     "metadata": {},
     "output_type": "execute_result"
    }
   ],
   "source": [
    "p_values = PerAggOLS.pvalues\n",
    "\n",
    "alpha = 0.05\n",
    "\n",
    "stars = ['*' if p < alpha else '' for p in p_values]\n",
    "\n",
    "summary_table = pd.DataFrame({\n",
    "    'Coefficient': PerAggOLS.params,\n",
    "    'p-value': p_values,\n",
    "    'Significance': stars\n",
    "})\n",
    "\n",
    "pd.DataFrame(summary_table)"
   ]
  },
  {
   "cell_type": "markdown",
   "metadata": {},
   "source": [
    "- **Difference in 5 year sums *2010 to 2014* minus *2015 to 2019 for Renovations Per Housing Unit***"
   ]
  },
  {
   "cell_type": "code",
   "execution_count": 67,
   "metadata": {},
   "outputs": [],
   "source": [
    "## Full Model\n",
    "\n",
    "# IndependentVariables = ['White2012_2017','Per30Years2012_2017','PercentWhite2015','Percent30Years2015',\n",
    "#                        'Inc2012_2017','MHIncome2015','Ownership2012_2017','PercentOwnerOccupied2015' ]"
   ]
  },
  {
   "cell_type": "code",
   "execution_count": 68,
   "metadata": {},
   "outputs": [],
   "source": [
    "# IndependentVariables = ['White','PercentWhite2010','PercentAdultsWithAtLeastBachelors2010',\n",
    "#                         'Education','Bld30yrs','Percent30Years2010','AverageAge2010_2014',\n",
    "#                         'NetBldValue2015_2019','SalesPrice2010_2014','Price2010','NetBldgVal2010','AverageYearBuilt2010',\n",
    "#                         'Ownership','PercentOwnerOccupied2010','Income','MHIncome2010' ,'Housing','HousingUnits2010']"
   ]
  },
  {
   "cell_type": "code",
   "execution_count": 69,
   "metadata": {},
   "outputs": [],
   "source": [
    "IndependentVariables = ['White','PercentWhite2010','PercentAdultsWithAtLeastBachelors2010',\n",
    "                        'Education','Bld30yrs','Percent30Years2010',\n",
    "                        'Ownership','PercentOwnerOccupied2010','Income','MHIncome2010']"
   ]
  },
  {
   "cell_type": "code",
   "execution_count": 70,
   "metadata": {
    "scrolled": false
   },
   "outputs": [
    {
     "name": "stdout",
     "output_type": "stream",
     "text": [
      "                            OLS Regression Results                            \n",
      "==============================================================================\n",
      "Dep. Variable:     RenoPerHU5yearDiff   R-squared:                       0.238\n",
      "Model:                            OLS   Adj. R-squared:                  0.217\n",
      "Method:                 Least Squares   F-statistic:                     11.70\n",
      "Date:                Wed, 20 Sep 2023   Prob (F-statistic):           1.45e-17\n",
      "Time:                        13:36:38   Log-Likelihood:                 161.20\n",
      "No. Observations:                 386   AIC:                            -300.4\n",
      "Df Residuals:                     375   BIC:                            -256.9\n",
      "Df Model:                          10                                         \n",
      "Covariance Type:            nonrobust                                         \n",
      "=========================================================================================================\n",
      "                                            coef    std err          t      P>|t|      [0.025      0.975]\n",
      "---------------------------------------------------------------------------------------------------------\n",
      "const                                    -0.0193      0.035     -0.548      0.584      -0.089       0.050\n",
      "White                                  9.257e-05      0.001      0.087      0.931      -0.002       0.002\n",
      "PercentWhite2010                          0.0006      0.001      1.011      0.313      -0.001       0.002\n",
      "PercentAdultsWithAtLeastBachelors2010  8.923e-05      0.001      0.100      0.920      -0.002       0.002\n",
      "Education                                -0.0032      0.001     -2.368      0.018      -0.006      -0.001\n",
      "Bld30yrs                                  0.0175      0.002      8.978      0.000       0.014       0.021\n",
      "Percent30Years2010                        0.0005      0.000      1.509      0.132      -0.000       0.001\n",
      "Ownership                                -0.0034      0.001     -2.955      0.003      -0.006      -0.001\n",
      "PercentOwnerOccupied2010                 -0.0002      0.000     -0.460      0.646      -0.001       0.001\n",
      "Income                                 8.379e-07   7.85e-07      1.067      0.287   -7.06e-07    2.38e-06\n",
      "MHIncome2010                           1.751e-07   4.89e-07      0.358      0.720   -7.86e-07    1.14e-06\n",
      "==============================================================================\n",
      "Omnibus:                      722.450   Durbin-Watson:                   2.028\n",
      "Prob(Omnibus):                  0.000   Jarque-Bera (JB):           617616.314\n",
      "Skew:                         -11.597   Prob(JB):                         0.00\n",
      "Kurtosis:                     197.584   Cond. No.                     2.90e+05\n",
      "==============================================================================\n",
      "\n",
      "Notes:\n",
      "[1] Standard Errors assume that the covariance matrix of the errors is correctly specified.\n",
      "[2] The condition number is large, 2.9e+05. This might indicate that there are\n",
      "strong multicollinearity or other numerical problems.\n"
     ]
    }
   ],
   "source": [
    "Exogeneous = sm.add_constant(ResInv[IndependentVariables])\n",
    "\n",
    "PerAgg = sm.OLS(ResInv.RenoPerHU5yearDiff, Exogeneous)\n",
    "PerAggOLS = PerAgg.fit()\n",
    "print(PerAggOLS.summary())"
   ]
  },
  {
   "cell_type": "code",
   "execution_count": 71,
   "metadata": {},
   "outputs": [],
   "source": [
    "# residuals = PerAggOLS.resid\n",
    "# residualdf = pd.DataFrame({\n",
    "#     'NPA': ResInv['NPA'],\n",
    "#     'residuals': residuals})\n",
    "# residualdf.to_csv('RenoPerHU5yearDiff.csv',index = False)"
   ]
  },
  {
   "cell_type": "code",
   "execution_count": 72,
   "metadata": {
    "scrolled": false
   },
   "outputs": [
    {
     "data": {
      "text/html": [
       "<div>\n",
       "<style scoped>\n",
       "    .dataframe tbody tr th:only-of-type {\n",
       "        vertical-align: middle;\n",
       "    }\n",
       "\n",
       "    .dataframe tbody tr th {\n",
       "        vertical-align: top;\n",
       "    }\n",
       "\n",
       "    .dataframe thead th {\n",
       "        text-align: right;\n",
       "    }\n",
       "</style>\n",
       "<table border=\"1\" class=\"dataframe\">\n",
       "  <thead>\n",
       "    <tr style=\"text-align: right;\">\n",
       "      <th></th>\n",
       "      <th>Coefficient</th>\n",
       "      <th>p-value</th>\n",
       "      <th>Significance</th>\n",
       "    </tr>\n",
       "  </thead>\n",
       "  <tbody>\n",
       "    <tr>\n",
       "      <th>const</th>\n",
       "      <td>-0.0193415221</td>\n",
       "      <td>0.5842446708</td>\n",
       "      <td></td>\n",
       "    </tr>\n",
       "    <tr>\n",
       "      <th>White</th>\n",
       "      <td>0.0000925714</td>\n",
       "      <td>0.9308703942</td>\n",
       "      <td></td>\n",
       "    </tr>\n",
       "    <tr>\n",
       "      <th>PercentWhite2010</th>\n",
       "      <td>0.0006057494</td>\n",
       "      <td>0.3128383224</td>\n",
       "      <td></td>\n",
       "    </tr>\n",
       "    <tr>\n",
       "      <th>PercentAdultsWithAtLeastBachelors2010</th>\n",
       "      <td>0.0000892268</td>\n",
       "      <td>0.9204431604</td>\n",
       "      <td></td>\n",
       "    </tr>\n",
       "    <tr>\n",
       "      <th>Education</th>\n",
       "      <td>-0.0032498584</td>\n",
       "      <td>0.0183827606</td>\n",
       "      <td>*</td>\n",
       "    </tr>\n",
       "    <tr>\n",
       "      <th>Bld30yrs</th>\n",
       "      <td>0.0175039330</td>\n",
       "      <td>0.0000000000</td>\n",
       "      <td>*</td>\n",
       "    </tr>\n",
       "    <tr>\n",
       "      <th>Percent30Years2010</th>\n",
       "      <td>0.0004633587</td>\n",
       "      <td>0.1320662292</td>\n",
       "      <td></td>\n",
       "    </tr>\n",
       "    <tr>\n",
       "      <th>Ownership</th>\n",
       "      <td>-0.0033949415</td>\n",
       "      <td>0.0033285791</td>\n",
       "      <td>*</td>\n",
       "    </tr>\n",
       "    <tr>\n",
       "      <th>PercentOwnerOccupied2010</th>\n",
       "      <td>-0.0002051254</td>\n",
       "      <td>0.6460284715</td>\n",
       "      <td></td>\n",
       "    </tr>\n",
       "    <tr>\n",
       "      <th>Income</th>\n",
       "      <td>0.0000008379</td>\n",
       "      <td>0.2866318059</td>\n",
       "      <td></td>\n",
       "    </tr>\n",
       "    <tr>\n",
       "      <th>MHIncome2010</th>\n",
       "      <td>0.0000001751</td>\n",
       "      <td>0.7203627205</td>\n",
       "      <td></td>\n",
       "    </tr>\n",
       "  </tbody>\n",
       "</table>\n",
       "</div>"
      ],
      "text/plain": [
       "                                        Coefficient      p-value Significance\n",
       "const                                 -0.0193415221 0.5842446708             \n",
       "White                                  0.0000925714 0.9308703942             \n",
       "PercentWhite2010                       0.0006057494 0.3128383224             \n",
       "PercentAdultsWithAtLeastBachelors2010  0.0000892268 0.9204431604             \n",
       "Education                             -0.0032498584 0.0183827606            *\n",
       "Bld30yrs                               0.0175039330 0.0000000000            *\n",
       "Percent30Years2010                     0.0004633587 0.1320662292             \n",
       "Ownership                             -0.0033949415 0.0033285791            *\n",
       "PercentOwnerOccupied2010              -0.0002051254 0.6460284715             \n",
       "Income                                 0.0000008379 0.2866318059             \n",
       "MHIncome2010                           0.0000001751 0.7203627205             "
      ]
     },
     "execution_count": 72,
     "metadata": {},
     "output_type": "execute_result"
    }
   ],
   "source": [
    "p_values = PerAggOLS.pvalues\n",
    "\n",
    "alpha = 0.05\n",
    "\n",
    "stars = ['*' if p < alpha else '' for p in p_values]\n",
    "\n",
    "summary_table = pd.DataFrame({\n",
    "    'Coefficient': PerAggOLS.params,\n",
    "    'p-value': p_values,\n",
    "    'Significance': stars\n",
    "})\n",
    "\n",
    "pd.DataFrame(summary_table)"
   ]
  },
  {
   "cell_type": "markdown",
   "metadata": {},
   "source": [
    "- **Ten year sum on percentage change in the decade**"
   ]
  },
  {
   "cell_type": "code",
   "execution_count": 73,
   "metadata": {},
   "outputs": [],
   "source": [
    "IndependentVariables = ['OwnershipChange','Bld30yrsChange','IncomeChange','MHIncome2010', 'WhiteChange',\n",
    "                        'PercentWhite2010','PercentAdultsWithAtLeastBachelors2010',\n",
    "                        'EducationChange','HousingChange','Percent30Years2010','SalesChange','Price2010',\n",
    "                        'NetBldValueChange','AverageAgeChange','NetBldgVal2010','AverageYearBuilt2010',\n",
    "                        'PercentOwnerOccupied2010','HousingUnits2010']"
   ]
  },
  {
   "cell_type": "code",
   "execution_count": 74,
   "metadata": {
    "scrolled": false
   },
   "outputs": [
    {
     "name": "stdout",
     "output_type": "stream",
     "text": [
      "                            OLS Regression Results                            \n",
      "==============================================================================\n",
      "Dep. Variable:            Reno10Years   R-squared:                       0.732\n",
      "Model:                            OLS   Adj. R-squared:                  0.719\n",
      "Method:                 Least Squares   F-statistic:                     55.72\n",
      "Date:                Wed, 20 Sep 2023   Prob (F-statistic):           3.48e-93\n",
      "Time:                        13:36:39   Log-Likelihood:                -2070.8\n",
      "No. Observations:                 386   AIC:                             4180.\n",
      "Df Residuals:                     367   BIC:                             4255.\n",
      "Df Model:                          18                                         \n",
      "Covariance Type:            nonrobust                                         \n",
      "=========================================================================================================\n",
      "                                            coef    std err          t      P>|t|      [0.025      0.975]\n",
      "---------------------------------------------------------------------------------------------------------\n",
      "const                                  5518.6522    798.877      6.908      0.000    3947.701    7089.603\n",
      "OwnershipChange                           0.3605      0.266      1.355      0.176      -0.163       0.884\n",
      "Bld30yrsChange                            0.6062      0.972      0.624      0.533      -1.305       2.518\n",
      "IncomeChange                              0.0006      0.000      2.964      0.003       0.000       0.001\n",
      "MHIncome2010                              0.0008      0.000      3.763      0.000       0.000       0.001\n",
      "WhiteChange                              -0.0076      0.270     -0.028      0.978      -0.539       0.523\n",
      "PercentWhite2010                          0.1183      0.217      0.545      0.586      -0.308       0.545\n",
      "PercentAdultsWithAtLeastBachelors2010     0.0312      0.313      0.099      0.921      -0.585       0.647\n",
      "EducationChange                           0.0456      0.321      0.142      0.887      -0.586       0.677\n",
      "HousingChange                             0.0126      0.009      1.399      0.163      -0.005       0.030\n",
      "Percent30Years2010                       -0.0996      0.171     -0.584      0.560      -0.435       0.236\n",
      "SalesChange                               0.0002    4.7e-05      4.440      0.000       0.000       0.000\n",
      "Price2010                              9.311e-05   6.94e-05      1.342      0.180   -4.33e-05       0.000\n",
      "NetBldValueChange                      2.481e-05   2.39e-05      1.039      0.299   -2.21e-05    7.17e-05\n",
      "AverageAgeChange                          0.8155      1.319      0.618      0.537      -1.779       3.410\n",
      "NetBldgVal2010                         3.979e-05    3.2e-05      1.243      0.215   -2.32e-05       0.000\n",
      "AverageYearBuilt2010                     -2.8538      0.400     -7.137      0.000      -3.640      -2.068\n",
      "PercentOwnerOccupied2010                  0.6691      0.164      4.078      0.000       0.346       0.992\n",
      "HousingUnits2010                          0.1065      0.006     18.231      0.000       0.095       0.118\n",
      "==============================================================================\n",
      "Omnibus:                      313.054   Durbin-Watson:                   1.722\n",
      "Prob(Omnibus):                  0.000   Jarque-Bera (JB):            13418.783\n",
      "Skew:                           2.994   Prob(JB):                         0.00\n",
      "Kurtosis:                      31.257   Cond. No.                     7.54e+07\n",
      "==============================================================================\n",
      "\n",
      "Notes:\n",
      "[1] Standard Errors assume that the covariance matrix of the errors is correctly specified.\n",
      "[2] The condition number is large, 7.54e+07. This might indicate that there are\n",
      "strong multicollinearity or other numerical problems.\n"
     ]
    }
   ],
   "source": [
    "Exogeneous = sm.add_constant(ResInv[IndependentVariables])\n",
    "\n",
    "PerAgg = sm.OLS(ResInv.Reno10Years, Exogeneous)\n",
    "PerAggOLS = PerAgg.fit()\n",
    "print(PerAggOLS.summary())"
   ]
  },
  {
   "cell_type": "code",
   "execution_count": 75,
   "metadata": {},
   "outputs": [
    {
     "data": {
      "text/html": [
       "<div>\n",
       "<style scoped>\n",
       "    .dataframe tbody tr th:only-of-type {\n",
       "        vertical-align: middle;\n",
       "    }\n",
       "\n",
       "    .dataframe tbody tr th {\n",
       "        vertical-align: top;\n",
       "    }\n",
       "\n",
       "    .dataframe thead th {\n",
       "        text-align: right;\n",
       "    }\n",
       "</style>\n",
       "<table border=\"1\" class=\"dataframe\">\n",
       "  <thead>\n",
       "    <tr style=\"text-align: right;\">\n",
       "      <th></th>\n",
       "      <th>Coefficient</th>\n",
       "      <th>p-value</th>\n",
       "      <th>Significance</th>\n",
       "    </tr>\n",
       "  </thead>\n",
       "  <tbody>\n",
       "    <tr>\n",
       "      <th>const</th>\n",
       "      <td>5518.6522141516</td>\n",
       "      <td>0.0000000000</td>\n",
       "      <td>*</td>\n",
       "    </tr>\n",
       "    <tr>\n",
       "      <th>OwnershipChange</th>\n",
       "      <td>0.3604647956</td>\n",
       "      <td>0.1764096911</td>\n",
       "      <td></td>\n",
       "    </tr>\n",
       "    <tr>\n",
       "      <th>Bld30yrsChange</th>\n",
       "      <td>0.6062183353</td>\n",
       "      <td>0.5332104842</td>\n",
       "      <td></td>\n",
       "    </tr>\n",
       "    <tr>\n",
       "      <th>IncomeChange</th>\n",
       "      <td>0.0005617191</td>\n",
       "      <td>0.0032383491</td>\n",
       "      <td>*</td>\n",
       "    </tr>\n",
       "    <tr>\n",
       "      <th>MHIncome2010</th>\n",
       "      <td>0.0007938797</td>\n",
       "      <td>0.0001952472</td>\n",
       "      <td>*</td>\n",
       "    </tr>\n",
       "    <tr>\n",
       "      <th>WhiteChange</th>\n",
       "      <td>-0.0075880514</td>\n",
       "      <td>0.9775938094</td>\n",
       "      <td></td>\n",
       "    </tr>\n",
       "    <tr>\n",
       "      <th>PercentWhite2010</th>\n",
       "      <td>0.1182839474</td>\n",
       "      <td>0.5860730986</td>\n",
       "      <td></td>\n",
       "    </tr>\n",
       "    <tr>\n",
       "      <th>PercentAdultsWithAtLeastBachelors2010</th>\n",
       "      <td>0.0311534211</td>\n",
       "      <td>0.9208504841</td>\n",
       "      <td></td>\n",
       "    </tr>\n",
       "    <tr>\n",
       "      <th>EducationChange</th>\n",
       "      <td>0.0456134505</td>\n",
       "      <td>0.8871329581</td>\n",
       "      <td></td>\n",
       "    </tr>\n",
       "    <tr>\n",
       "      <th>HousingChange</th>\n",
       "      <td>0.0126232466</td>\n",
       "      <td>0.1627789749</td>\n",
       "      <td></td>\n",
       "    </tr>\n",
       "    <tr>\n",
       "      <th>Percent30Years2010</th>\n",
       "      <td>-0.0995970588</td>\n",
       "      <td>0.5596925621</td>\n",
       "      <td></td>\n",
       "    </tr>\n",
       "    <tr>\n",
       "      <th>SalesChange</th>\n",
       "      <td>0.0002087529</td>\n",
       "      <td>0.0000119431</td>\n",
       "      <td>*</td>\n",
       "    </tr>\n",
       "    <tr>\n",
       "      <th>Price2010</th>\n",
       "      <td>0.0000931120</td>\n",
       "      <td>0.1804979001</td>\n",
       "      <td></td>\n",
       "    </tr>\n",
       "    <tr>\n",
       "      <th>NetBldValueChange</th>\n",
       "      <td>0.0000248069</td>\n",
       "      <td>0.2992657775</td>\n",
       "      <td></td>\n",
       "    </tr>\n",
       "    <tr>\n",
       "      <th>AverageAgeChange</th>\n",
       "      <td>0.8155087200</td>\n",
       "      <td>0.5368611213</td>\n",
       "      <td></td>\n",
       "    </tr>\n",
       "    <tr>\n",
       "      <th>NetBldgVal2010</th>\n",
       "      <td>0.0000397930</td>\n",
       "      <td>0.2147208001</td>\n",
       "      <td></td>\n",
       "    </tr>\n",
       "    <tr>\n",
       "      <th>AverageYearBuilt2010</th>\n",
       "      <td>-2.8538243590</td>\n",
       "      <td>0.0000000000</td>\n",
       "      <td>*</td>\n",
       "    </tr>\n",
       "    <tr>\n",
       "      <th>PercentOwnerOccupied2010</th>\n",
       "      <td>0.6690797448</td>\n",
       "      <td>0.0000558211</td>\n",
       "      <td>*</td>\n",
       "    </tr>\n",
       "    <tr>\n",
       "      <th>HousingUnits2010</th>\n",
       "      <td>0.1065270518</td>\n",
       "      <td>0.0000000000</td>\n",
       "      <td>*</td>\n",
       "    </tr>\n",
       "  </tbody>\n",
       "</table>\n",
       "</div>"
      ],
      "text/plain": [
       "                                          Coefficient      p-value  \\\n",
       "const                                 5518.6522141516 0.0000000000   \n",
       "OwnershipChange                          0.3604647956 0.1764096911   \n",
       "Bld30yrsChange                           0.6062183353 0.5332104842   \n",
       "IncomeChange                             0.0005617191 0.0032383491   \n",
       "MHIncome2010                             0.0007938797 0.0001952472   \n",
       "WhiteChange                             -0.0075880514 0.9775938094   \n",
       "PercentWhite2010                         0.1182839474 0.5860730986   \n",
       "PercentAdultsWithAtLeastBachelors2010    0.0311534211 0.9208504841   \n",
       "EducationChange                          0.0456134505 0.8871329581   \n",
       "HousingChange                            0.0126232466 0.1627789749   \n",
       "Percent30Years2010                      -0.0995970588 0.5596925621   \n",
       "SalesChange                              0.0002087529 0.0000119431   \n",
       "Price2010                                0.0000931120 0.1804979001   \n",
       "NetBldValueChange                        0.0000248069 0.2992657775   \n",
       "AverageAgeChange                         0.8155087200 0.5368611213   \n",
       "NetBldgVal2010                           0.0000397930 0.2147208001   \n",
       "AverageYearBuilt2010                    -2.8538243590 0.0000000000   \n",
       "PercentOwnerOccupied2010                 0.6690797448 0.0000558211   \n",
       "HousingUnits2010                         0.1065270518 0.0000000000   \n",
       "\n",
       "                                      Significance  \n",
       "const                                            *  \n",
       "OwnershipChange                                     \n",
       "Bld30yrsChange                                      \n",
       "IncomeChange                                     *  \n",
       "MHIncome2010                                     *  \n",
       "WhiteChange                                         \n",
       "PercentWhite2010                                    \n",
       "PercentAdultsWithAtLeastBachelors2010               \n",
       "EducationChange                                     \n",
       "HousingChange                                       \n",
       "Percent30Years2010                                  \n",
       "SalesChange                                      *  \n",
       "Price2010                                           \n",
       "NetBldValueChange                                   \n",
       "AverageAgeChange                                    \n",
       "NetBldgVal2010                                      \n",
       "AverageYearBuilt2010                             *  \n",
       "PercentOwnerOccupied2010                         *  \n",
       "HousingUnits2010                                 *  "
      ]
     },
     "execution_count": 75,
     "metadata": {},
     "output_type": "execute_result"
    }
   ],
   "source": [
    "p_values = PerAggOLS.pvalues\n",
    "\n",
    "alpha = 0.05\n",
    "\n",
    "stars = ['*' if p < alpha else '' for p in p_values]\n",
    "\n",
    "summary_table = pd.DataFrame({\n",
    "    'Coefficient': PerAggOLS.params,\n",
    "    'p-value': p_values,\n",
    "    'Significance': stars\n",
    "})\n",
    "\n",
    "pd.DataFrame(summary_table)"
   ]
  }
 ],
 "metadata": {
  "kernelspec": {
   "display_name": "Python 3",
   "language": "python",
   "name": "python3"
  },
  "language_info": {
   "codemirror_mode": {
    "name": "ipython",
    "version": 3
   },
   "file_extension": ".py",
   "mimetype": "text/x-python",
   "name": "python",
   "nbconvert_exporter": "python",
   "pygments_lexer": "ipython3",
   "version": "3.7.9"
  }
 },
 "nbformat": 4,
 "nbformat_minor": 4
}
